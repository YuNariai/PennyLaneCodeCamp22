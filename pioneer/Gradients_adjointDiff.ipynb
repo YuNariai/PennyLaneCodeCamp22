{
 "cells": [
  {
   "cell_type": "markdown",
   "id": "a8fb8323-1a99-4ef7-93e0-316bccca43e2",
   "metadata": {},
   "source": [
    "***Gradients: Adjoint differentiation***  500 points"
   ]
  },
  {
   "cell_type": "markdown",
   "id": "12fae9bb-ef07-4777-acdd-2f1a97678069",
   "metadata": {},
   "source": [
    "In the last two problems, we dove into the parameter-shift rule. It's an elegant, simple, and extremely useful way to differentiate quantum circuits because of its hardware compatibility. There are other differentiation methods that exist and are very efficient, but are not hardware compatible in general. We'll describe a way to perform one of those methods in this challenge: adjoint differentiation.\n"
   ]
  },
  {
   "cell_type": "markdown",
   "id": "22914e66-847f-45bb-908b-b46fc435ef32",
   "metadata": {},
   "source": [
    "![title](gradients_adjDiff1.jpg)"
   ]
  },
  {
   "cell_type": "markdown",
   "id": "a20422d0-fa71-4a23-ad28-f402f570deb3",
   "metadata": {},
   "source": [
    "![title](gradients_adjDiff2.jpg)"
   ]
  },
  {
   "cell_type": "markdown",
   "id": "6e411871-761e-4783-aeb1-d72f407d997a",
   "metadata": {},
   "source": [
    "![title](gradients_adjDiff3.jpg)"
   ]
  },
  {
   "cell_type": "markdown",
   "id": "49d8da83-ddfb-4eb6-8513-d56faef267f9",
   "metadata": {},
   "source": [
    "where the freedom for how to define each bra and ket is left to you! Surely, if four PennyLane circuits are made that create each bra and ket, the derivative can be calculated with two inner products added together and multiplied by a coefficient ...\n",
    "\n",
    "For the keen readers: do you actually need four circuits 🧐?"
   ]
  },
  {
   "cell_type": "markdown",
   "id": "c67264da-7d5a-4216-9d22-e5a782b82a10",
   "metadata": {},
   "source": [
    "***Challenge code***\n",
    "\n",
    "In the code below, you are given a few functions:"
   ]
  },
  {
   "cell_type": "markdown",
   "id": "7572331f-6bb4-4ff7-9739-5ba12dde9dd5",
   "metadata": {},
   "source": [
    "![title](gradients_adjDiff4.jpg)"
   ]
  },
  {
   "cell_type": "markdown",
   "id": "ec33b3da-dfc6-4cdf-9ad3-b3788a2ea638",
   "metadata": {},
   "source": [
    "***Inputs***\n",
    "\n",
    "As input to this problem, you are given:"
   ]
  },
  {
   "cell_type": "markdown",
   "id": "05687193-edfe-453c-9954-90315ad2e903",
   "metadata": {},
   "source": [
    "![title](gradients_adjDiff5.jpg)"
   ]
  },
  {
   "cell_type": "markdown",
   "id": "d86d031d-2796-405b-a891-e8d82a945f8e",
   "metadata": {},
   "source": [
    "***Outputs***"
   ]
  },
  {
   "cell_type": "markdown",
   "id": "731e5338-a32e-47e2-aca8-28d6a2e4921b",
   "metadata": {},
   "source": [
    "This code will output the derivative, a float, of the circuit with respect to the given parameter.\n",
    "\n",
    "If your solution matches the correct one within the given tolerance specified in check (in this case it's a 1e-4 relative error tolerance), the output will be \"Correct!\". Otherwise, you will receive a \"Wrong answer\" prompt.\n",
    "\n",
    "Good luck!"
   ]
  },
  {
   "cell_type": "markdown",
   "id": "ead9a0d2-b57d-4a3c-999e-3d3871d25c1d",
   "metadata": {},
   "source": [
    "***Code***"
   ]
  },
  {
   "cell_type": "code",
   "execution_count": 10,
   "id": "bcf5ff16-6f37-48c1-bb9d-6508b684f475",
   "metadata": {},
   "outputs": [],
   "source": [
    "import functools\n",
    "import json\n",
    "import math\n",
    "import pandas as pd\n",
    "import pennylane as qml\n",
    "import pennylane.numpy as np\n",
    "import scipy"
   ]
  },
  {
   "cell_type": "code",
   "execution_count": 11,
   "id": "e96453b1-ca7d-44c7-9ed5-196b5defa8c5",
   "metadata": {},
   "outputs": [],
   "source": [
    "def generator_info(operator):\n",
    "    \"\"\"Provides the generator of a given operator.\n",
    "\n",
    "    Args:\n",
    "        operator (qml.ops): A PennyLane operator\n",
    "\n",
    "    Returns:\n",
    "        (qml.ops): The generator of the operator.\n",
    "        (float): The coefficient of the generator.\n",
    "    \"\"\"\n",
    "    gen = qml.generator(operator, format=\"observable\")\n",
    "    return gen.ops[0], gen.coeffs[0]"
   ]
  },
  {
   "cell_type": "code",
   "execution_count": 12,
   "id": "0c1c0da9-797c-4b78-aa72-a327778956d6",
   "metadata": {},
   "outputs": [],
   "source": [
    "def derivative(op_order, params, diff_idx, wires, measured_wire):\n",
    "    \"\"\"A function that calculates the derivative of a circuit w.r.t. one parameter.\n",
    "\n",
    "    NOTE: you cannot use qml.grad in this function.\n",
    "\n",
    "    Args:\n",
    "        op_order (list(int)):\n",
    "            This is a list of integers that defines the circuit in question.\n",
    "            The entries of this list correspond to dictionary keys to op_dict.\n",
    "            For example, [1,0,2] means that the circuit in question contains\n",
    "            an RY gate, an RX gate, and an RZ gate in that order.\n",
    "\n",
    "        params (np.array(float)):\n",
    "            The parameters that define the gates in the circuit. In this case,\n",
    "            they're all rotation angles.\n",
    "\n",
    "        diff_idx (int):\n",
    "            The index of the gate in the circuit that is to be differentiated\n",
    "            with respect to. For instance, if diff_idx = 2, then the derivative\n",
    "            of the third gate in the circuit will be calculated.\n",
    "\n",
    "        wires (list(int)):\n",
    "            A list of wires that each gate in the circuit will be applied to.\n",
    "\n",
    "        measured_wire (int):\n",
    "            The expectation value that needs to be calculated is with respect\n",
    "            to the Pauli Z operator. measured_wire defines what wire we're\n",
    "            measuring on.\n",
    "\n",
    "    Returns:\n",
    "        float: The derivative evaluated at the given parameters.\n",
    "    \"\"\"\n",
    "    op_dict = {0: qml.RX, 1: qml.RY, 2: qml.RZ}\n",
    "    dev = qml.device(\"default.qubit\", wires=2)\n",
    "\n",
    "    obs = qml.PauliZ(measured_wire)\n",
    "    operator = op_dict[op_order[diff_idx]](params[diff_idx], wires[diff_idx])\n",
    "    gen, coeff = generator_info(operator)\n",
    "\n",
    "    @qml.qnode(dev)\n",
    "    def circuit_bra1():\n",
    "\n",
    "        # Put your code here #\n",
    "        for i in range(len(op_order)):\n",
    "            if i == diff_idx:\n",
    "                qml.apply(gen)\n",
    "                qml.apply(operator)\n",
    "                \n",
    "            else:\n",
    "                op_dict[op_order[i]](params[i], wires[i])\n",
    "                \n",
    "        return qml.state()\n",
    "\n",
    "    @qml.qnode(dev)\n",
    "    def circuit_ket1():\n",
    "\n",
    "        # Put your code here #\n",
    "        for ii in range(len(op_order)):\n",
    "            op_dict[op_order[ii]](params[ii], wires[ii])\n",
    "            \n",
    "        qml.PauliZ(measured_wire)\n",
    "        \n",
    "        return qml.state()\n",
    "\n",
    "    @qml.qnode(dev)\n",
    "    def circuit_bra2():\n",
    "\n",
    "        # Put your code here #\n",
    "        for jj in range(len(op_order)):\n",
    "            op_dict[op_order[jj]](params[jj], wires[jj])\n",
    "            \n",
    "        return qml.state()\n",
    "\n",
    "    @qml.qnode(dev)\n",
    "    def circuit_ket2():\n",
    "\n",
    "        # Put your code here #\n",
    "        for j in range(len(op_order)):\n",
    "            if j == diff_idx:\n",
    "                qml.apply(operator)\n",
    "                qml.apply(gen)                \n",
    "            else:\n",
    "                op_dict[op_order[j]](params[j], wires[j])\n",
    "                \n",
    "        qml.PauliZ(measured_wire)\n",
    "\n",
    "        return qml.state()\n",
    "\n",
    "    bra1 = circuit_bra1()\n",
    "    ket1 = circuit_ket1()\n",
    "    bra2 = circuit_bra2()\n",
    "    ket2 = circuit_ket2()\n",
    "\n",
    "    return  (1j*coeff*((-1)*np.vdot(bra1,ket1)+np.vdot(bra2,ket2))).real # Put your code here #"
   ]
  },
  {
   "cell_type": "code",
   "execution_count": 13,
   "id": "038f5cf8-93e0-42c9-b158-32ec07a4a7f3",
   "metadata": {},
   "outputs": [],
   "source": [
    "# These functions are responsible for testing the solution.\n",
    "\n",
    "def run(test_case_input: str) -> str:\n",
    "    op_order, params, diff_idx, wires, measured_wire = json.loads(test_case_input)\n",
    "    params = np.array(params, requires_grad=True)\n",
    "    der = derivative(op_order, params, diff_idx, wires, measured_wire)\n",
    "    return str(der)\n",
    "\n",
    "def check(solution_output: str, expected_output: str) -> None:\n",
    "    solution_output = json.loads(solution_output)\n",
    "    expected_output = json.loads(expected_output)\n",
    "    assert np.allclose(\n",
    "        solution_output, expected_output, rtol=1e-4\n",
    "    ), \"Your derivative isn't quite right!\""
   ]
  },
  {
   "cell_type": "code",
   "execution_count": 14,
   "id": "a723b70b-c837-47c6-84d7-1025a8f225c3",
   "metadata": {},
   "outputs": [],
   "source": [
    "test_cases = [['[[1,0,2,1,0,1], [1.23, 4.56, 7.89, 1.23, 4.56, 7.89], 0, [1, 0, 1, 1, 1, 0], 1]', '-0.2840528']]"
   ]
  },
  {
   "cell_type": "code",
   "execution_count": 15,
   "id": "35024163-fcd9-47e9-9ed8-cd817c4b7657",
   "metadata": {},
   "outputs": [
    {
     "name": "stdout",
     "output_type": "stream",
     "text": [
      "Running test case 0 with input '[[1,0,2,1,0,1], [1.23, 4.56, 7.89, 1.23, 4.56, 7.89], 0, [1, 0, 1, 1, 1, 0], 1]'...\n",
      "Correct!\n"
     ]
    }
   ],
   "source": [
    "for i, (input_, expected_output) in enumerate(test_cases):\n",
    "    print(f\"Running test case {i} with input '{input_}'...\")\n",
    "\n",
    "    try:\n",
    "        output = run(input_)\n",
    "\n",
    "    except Exception as exc:\n",
    "        print(f\"Runtime Error. {exc}\")\n",
    "\n",
    "    else:\n",
    "        if message := check(output, expected_output):\n",
    "            print(f\"Wrong Answer. Have: '{output}'. Want: '{expected_output}'.\")\n",
    "\n",
    "        else:\n",
    "            print(\"Correct!\")"
   ]
  },
  {
   "cell_type": "code",
   "execution_count": null,
   "id": "0ff6d658-74d7-4dd0-bec5-03da1423ede8",
   "metadata": {},
   "outputs": [],
   "source": []
  }
 ],
 "metadata": {
  "kernelspec": {
   "display_name": "PennyLane",
   "language": "python",
   "name": "pennylane"
  },
  "language_info": {
   "codemirror_mode": {
    "name": "ipython",
    "version": 3
   },
   "file_extension": ".py",
   "mimetype": "text/x-python",
   "name": "python",
   "nbconvert_exporter": "python",
   "pygments_lexer": "ipython3",
   "version": "3.9.13"
  }
 },
 "nbformat": 4,
 "nbformat_minor": 5
}
