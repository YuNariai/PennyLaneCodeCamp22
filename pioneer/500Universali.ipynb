{
 "cells": [
  {
   "cell_type": "code",
   "execution_count": 1,
   "id": "e47fb140-d224-41a6-9fd3-1dd58c852732",
   "metadata": {},
   "outputs": [],
   "source": [
    "import functools\n",
    "import json\n",
    "import math\n",
    "import pandas as pd\n",
    "import pennylane as qml\n",
    "import pennylane.numpy as np\n",
    "import scipy"
   ]
  },
  {
   "cell_type": "code",
   "execution_count": 2,
   "id": "d972e4ae-d83d-4313-bc3e-f1beb277b640",
   "metadata": {},
   "outputs": [
    {
     "data": {
      "text/plain": [
       "array([[1.00000000e+00-2.7476618e-16j, 1.34638103e-16+2.7476618e-16j,\n",
       "        0.00000000e+00+0.0000000e+00j, 0.00000000e+00+0.0000000e+00j],\n",
       "       [0.00000000e+00+0.0000000e+00j, 0.00000000e+00+0.0000000e+00j,\n",
       "        5.00000000e-01-5.0000000e-01j, 5.00000000e-01+5.0000000e-01j],\n",
       "       [0.00000000e+00+0.0000000e+00j, 0.00000000e+00+0.0000000e+00j,\n",
       "        5.00000000e-01+5.0000000e-01j, 5.00000000e-01-5.0000000e-01j],\n",
       "       [1.34638103e-16+2.7476618e-16j, 1.00000000e+00-2.7476618e-16j,\n",
       "        0.00000000e+00+0.0000000e+00j, 0.00000000e+00+0.0000000e+00j]])"
      ]
     },
     "execution_count": 2,
     "metadata": {},
     "output_type": "execute_result"
    }
   ],
   "source": [
    "def circuit1():\n",
    "\n",
    "    qml.T(0)\n",
    "    qml.Hadamard(1)\n",
    "    qml.T(1)\n",
    "    qml.CNOT(wires=[0,1])\n",
    "    \n",
    "    qml.T(1)\n",
    "    qml.T(1)\n",
    "    qml.T(1)\n",
    "    qml.T(1)\n",
    "    qml.T(1)\n",
    "    qml.T(1)\n",
    "    qml.T(1)\n",
    "    \n",
    "    \n",
    "    qml.CNOT(wires=[0,1])\n",
    "    qml.Hadamard(1)\n",
    "    qml.CNOT(wires=[1,0])\n",
    "    \n",
    "   \n",
    "    \n",
    "    \n",
    "qml.matrix(circuit1)()"
   ]
  },
  {
   "cell_type": "code",
   "execution_count": 4,
   "id": "7d62adb0-d629-40af-858d-1ca28f44a7f7",
   "metadata": {},
   "outputs": [
    {
     "data": {
      "text/plain": [
       "array([[ 1.00000000e+00-5.49532361e-16j,  1.42863117e-17-7.81825562e-18j,\n",
       "        -8.90187929e-18+7.81825562e-18j, -3.45159781e-34+5.49532361e-16j],\n",
       "       [-8.90187929e-18+3.67848024e-18j, -2.77555756e-17-3.92523115e-16j,\n",
       "         1.00000000e+00-7.06541606e-16j, -1.34692639e-17-3.67848024e-18j],\n",
       "       [-1.34692639e-17-3.67848024e-18j,  1.00000000e+00-7.06541606e-16j,\n",
       "        -2.77555756e-17-3.92523115e-16j, -8.90187929e-18+3.67848024e-18j],\n",
       "       [-3.45159781e-34+5.49532361e-16j, -8.90187929e-18+7.81825562e-18j,\n",
       "         1.42863117e-17-7.81825562e-18j,  1.00000000e+00-5.49532361e-16j]])"
      ]
     },
     "execution_count": 4,
     "metadata": {},
     "output_type": "execute_result"
    }
   ],
   "source": [
    "def circuit():\n",
    "    \n",
    "    qml.CNOT(wires=[0,1])\n",
    "\n",
    "    qml.Hadamard(0)\n",
    "    qml.Hadamard(1)\n",
    "    \n",
    "    circuit1()\n",
    "    \n",
    "    qml.CNOT(wires=[1,0])\n",
    "    \n",
    "    circuit1()\n",
    "    \n",
    "    qml.Hadamard(0)\n",
    "    qml.Hadamard(1)\n",
    "        \n",
    "    \n",
    "qml.matrix(circuit)()"
   ]
  },
  {
   "cell_type": "code",
   "execution_count": null,
   "id": "37f424da-1fab-426b-ad34-ac27f9f77c52",
   "metadata": {},
   "outputs": [],
   "source": []
  },
  {
   "cell_type": "code",
   "execution_count": null,
   "id": "10bf4564-e905-4c5b-b10a-870b45e33103",
   "metadata": {},
   "outputs": [],
   "source": []
  }
 ],
 "metadata": {
  "kernelspec": {
   "display_name": "PennyLane",
   "language": "python",
   "name": "pennylane"
  },
  "language_info": {
   "codemirror_mode": {
    "name": "ipython",
    "version": 3
   },
   "file_extension": ".py",
   "mimetype": "text/x-python",
   "name": "python",
   "nbconvert_exporter": "python",
   "pygments_lexer": "ipython3",
   "version": "3.9.13"
  }
 },
 "nbformat": 4,
 "nbformat_minor": 5
}
