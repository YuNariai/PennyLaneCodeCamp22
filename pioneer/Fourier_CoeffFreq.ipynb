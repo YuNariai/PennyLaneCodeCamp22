{
 "cells": [
  {
   "cell_type": "markdown",
   "id": "4e0d5493-dddd-40f3-87ae-67ac01358908",
   "metadata": {},
   "source": [
    "***Fourier spectrum of quantum models - Coefficients and frequencies***\n",
    "\n",
    "500 points\n",
    "\n",
    "In this problem, we will extract the Fourier coefficients and frequencies of a particular quantum model using PennyLane's Fourier Module. The quantum model, which uses four qubits is the following:\n",
    "\n",
    "![title](quantum_model.png)\n"
   ]
  },
  {
   "cell_type": "markdown",
   "id": "460908ab-d9b4-4f7f-9b07-fe0eb985a44e",
   "metadata": {},
   "source": [
    "Note that the output is the expectation value of the Pauli-Z observable on the first wire.\n",
    "\n",
    "The trainable circuit blocks  correspond to a number of Basic Entangler Layers:\n",
    "\n",
    "![title](train_block.png)\n",
    "\n"
   ]
  },
  {
   "cell_type": "markdown",
   "id": "6c5fd358-7a60-4619-9dcb-1aa05bd9c04e",
   "metadata": {},
   "source": [
    "This number of entangler layers need not be the same in every block! Each W(i) could be a concatenation of a different number of these.\n",
    "\n",
    "The encoding circuit blocks S depend on the input data  and we will take them to be a set of four parallel RX  gates (one in each wire), whose parameters are all the input data x.\n",
    "\n",
    "![title](encode_block.png)\n",
    "\n",
    "Your task is to find the Fourier frequencies allowed by this quantum model and the Fourier coefficients associated to each of these frequencies. Be mindful that these quantities do not depend on the input data!\n"
   ]
  },
  {
   "cell_type": "markdown",
   "id": "e0b7ea3c-a207-4532-a334-c3ca044c0b7f",
   "metadata": {},
   "source": [
    "***Challenge code***\n",
    "\n",
    "You must complete the fourier_decomp function to return a list with the Fourier frequencies and the real and imaginary parts of the Fourier coefficient associated with these frequencies.\n",
    "\n",
    "The input layers_params of fourier_decomp specifies how many trainable circuit blocks we have in our circuit, how many basic entangler layers each block contains, and what are the parameters in the rotation within the entangler layers. The elements of the list layers_params are lists of lists of real numbers. The i-th element of layers_params corresponds to the i-th trainable circuit block. If this element is of length j  (i.e. it contains j lists of numbers), it means that the i-th trainable circuit block contains j basic entangler layers. Each of these j lists of numbers contains 4 real numbers, corresponding to the parameters in the RX gates within the entangler layers.\n",
    "\n",
    "For example, layers_params = [[[0.1,0.3,0.4,0.5],[1.0,0.6,0.7,0.8]],[1.3,1.5,0.8,0.9]]] gives us the circuit:\n",
    "\n",
    "![title](Example.png)\n"
   ]
  },
  {
   "cell_type": "markdown",
   "id": "94d928b9-3722-4094-baf8-45d1a85b1d98",
   "metadata": {},
   "source": [
    "Check the documentation (https://docs.pennylane.ai/en/stable/code/api/pennylane.BasicEntanglerLayers.html of qml.BasicEntanglerLayers to see how this seemingly confusing way to encode the trainable parameters actually makes your life easier!"
   ]
  },
  {
   "cell_type": "markdown",
   "id": "ee414c40-7795-40dc-8faa-dde485fabbe1",
   "metadata": {},
   "source": [
    "***Input***\n",
    "\n",
    "As input to this problem, you are given layers_params (list(list(list(float))), which is explained above.\n",
    "\n",
    "***Output***\n",
    "\n",
    "This code will output a list(list(float)). Each element of the list is a list containing the frequency, the real value of the coefficient associated with that frequency, and the imaginary value of the coefficient, in that order. For example, the output will look like [[freq1, real1, imag1], [freq2, real2, imag2], [freq3, real3, imag3]].\n",
    "\n",
    "Frequencies must be ordered from most negative to most positive. Do keep in mind that the ordering of the Fourier coefficients when using the Fourier module's qml.fourier.coefficients is, for example, [C0, C1, C2,C3,C4,C-4, C-3, C-2, C-1]  (for 4 frequencies, but there may be more), where the subscripts represent the frequencies, so you may have some reordering to do!\n",
    "\n",
    "If your solution matches the correct one within the given tolerance specified in check (in this case it's a 0.01 absolute tolerance), the output will be \"Correct!\". Otherwise, you will receive a \"Wrong answer\" prompt.\n",
    "\n",
    "Good luck!"
   ]
  },
  {
   "cell_type": "code",
   "execution_count": 1,
   "id": "767e6a5d-937d-4bd1-bc2a-bdc96f4e2f83",
   "metadata": {},
   "outputs": [],
   "source": [
    "import functools\n",
    "import json\n",
    "import math\n",
    "import pandas as pd\n",
    "import pennylane as qml\n",
    "import pennylane.numpy as np\n",
    "import scipy"
   ]
  },
  {
   "cell_type": "code",
   "execution_count": 2,
   "id": "690dcb85-dc66-4e5f-a771-edbefffb598f",
   "metadata": {},
   "outputs": [],
   "source": [
    "def fourier_decomp(layers_params):\n",
    "    \"\"\"\n",
    "    Returns the frequencies and coefficient of our quantum model, specified by layers_params\n",
    "\n",
    "    Args:\n",
    "    layers_params: list(list(list(float))). Specifies the number of basic entangling layers and their\n",
    "    parameters as explained in the statement of the problem.\n",
    "\n",
    "    Returns: list([float,float,float]). A list three-element list. The first element of each list is the frequency. The second\n",
    "    element is the real part of the coefficient associated with that frequency in the Fourier decomposition. The third element\n",
    "    is the imaginary part of such coefficient.\n",
    "    \"\"\"\n",
    "\n",
    "    dev = qml.device(\"default.qubit\", wires=4)\n",
    "\n",
    "    @qml.qnode(dev)\n",
    "    def circuit(layers_params, x):\n",
    "        \"\"\"\n",
    "        This function is the quantum circuit made of alternating entangling layers and rotations representing our quantum model\n",
    "        \"\"\"\n",
    "        # Put your code here #\n",
    "        qml.BasicEntanglerLayers(weights=layers_params[0], wires=range(4))\n",
    "        for i in layers_params[1:]:\n",
    "            qml.RX(x,[0],id=\"x\")\n",
    "            qml.RX(x,[1],id=\"x\")\n",
    "            qml.RX(x,[2],id=\"x\")\n",
    "            qml.RX(x,[3],id=\"x\")\n",
    "            qml.BasicEntanglerLayers(weights=i, wires=range(4))\n",
    "            \n",
    "            \n",
    "            \n",
    "        # Return a single expectation value!\n",
    "        return qml.expval(qml.PauliZ(0))\n",
    "\n",
    "    # Use the Fourier module to obtain the coefficients and frequencies. Then return the required list of lists.\n",
    "    f_x = functools.partial(circuit, layers_params)\n",
    "    x = 0.2\n",
    "    freqs = qml.fourier.circuit_spectrum(circuit)(layers_params, x)\n",
    "\n",
    "    output=[]\n",
    "    for k,v in freqs.items():\n",
    "        degree=int((len(v)-1)/2)\n",
    "        coeffs = qml.fourier.coefficients(f_x, 1, degree)\n",
    "        coeff_real=np.append(coeffs.real[degree+1:],coeffs.real[:degree+1]).tolist()\n",
    "        coeff_imag=np.append(coeffs.imag[degree+1:],coeffs.imag[:degree+1]).tolist()\n",
    "        for i in range(len(v)):\n",
    "            output_element=[v[i]]+[coeff_real[i]]+[coeff_imag[i]]\n",
    "            output.append(output_element)\n",
    "    return output"
   ]
  },
  {
   "cell_type": "code",
   "execution_count": 3,
   "id": "6ec95353-9e1b-48f7-a096-cdb94d057bba",
   "metadata": {},
   "outputs": [],
   "source": [
    "# These functions are responsible for testing the solution.\n",
    "\n",
    "def run(test_case_input: str) -> str:\n",
    "\n",
    "    ins = json.loads(test_case_input)\n",
    "    output = fourier_decomp(ins)\n",
    "\n",
    "    return str(output)\n",
    "\n",
    "def check(solution_output: str, expected_output: str) -> None:\n",
    "    \"\"\"\n",
    "    Compare solution with expected.\n",
    "\n",
    "    Args:\n",
    "            solution_output: The output from an evaluated solution. Will be\n",
    "            the same type as returned.\n",
    "            expected_output: The correct result for the test case.\n",
    "\n",
    "    Raises:\n",
    "            ``AssertionError`` if the solution output is incorrect in any way.\n",
    "    \"\"\"\n",
    "\n",
    "    solution_output = json.loads(solution_output)\n",
    "    expected_output = json.loads(expected_output)\n",
    "    assert np.allclose(\n",
    "        solution_output, expected_output, rtol=1e-2\n",
    "    ), \"Your calculated Fourier spectrum isn't quite right.\""
   ]
  },
  {
   "cell_type": "code",
   "execution_count": 4,
   "id": "30980230-f226-4a6b-905e-5814c9da5a49",
   "metadata": {},
   "outputs": [],
   "source": [
    "test_cases = [['[[[2,2,2,2],[1,2,1,1]],[[3,4,5,6]]]', '[[-4.0, -2.4671622769447922e-17, -1.2335811384723961e-17], [-3.0, -0.03395647263976357, 0.010208410500915437], [-2.0, 2.8360500437920326e-17, 1.850371707708594e-17], [-1.0, 0.11762992558035439, -0.13619443127813127], [0.0, 8.018277400070575e-17, 0.0], [1.0, 0.11762992558035439, 0.13619443127813124], [2.0, 3.700743415417188e-17, -1.850371707708594e-17], [3.0, -0.03395647263976357, -0.010208410500915437],[4.0, -3.688877668472405e-18, 1.850371707708594e-17]]'], ['[[[2,2,2,2]],[[3,4,5,6]]]', '[[-4.0, 1.2335811384723961e-17, 3.700743415417188e-17],  [-3.0, 0.022482345076620468, -0.07855141721016852], [-2.0, -1.2335811384723961e-17, -6.536793459209221e-17], [-1.0, -0.13243693333822854, 0.17097830099559677], [0.0, -2.4671622769447922e-17, 0.0], [1.0, -0.13243693333822854, -0.17097830099559677], [2.0, -2.4671622769447922e-17, 7.401486830834377e-17], [3.0, 0.022482345076620468, 0.07855141721016852], [4.0, -1.2335811384723961e-17, -3.331855648569948e-17]]']]"
   ]
  },
  {
   "cell_type": "code",
   "execution_count": 5,
   "id": "24fa08b4-eab0-467e-866c-0834a3b75655",
   "metadata": {},
   "outputs": [
    {
     "name": "stdout",
     "output_type": "stream",
     "text": [
      "Running test case 0 with input '[[[2,2,2,2],[1,2,1,1]],[[3,4,5,6]]]'...\n",
      "Correct!\n",
      "Running test case 1 with input '[[[2,2,2,2]],[[3,4,5,6]]]'...\n",
      "Correct!\n"
     ]
    }
   ],
   "source": [
    "for i, (input_, expected_output) in enumerate(test_cases):\n",
    "    print(f\"Running test case {i} with input '{input_}'...\")\n",
    "\n",
    "    try:\n",
    "        output = run(input_)\n",
    "\n",
    "    except Exception as exc:\n",
    "        print(f\"Runtime Error. {exc}\")\n",
    "\n",
    "    else:\n",
    "        if message := check(output, expected_output):\n",
    "            print(f\"Wrong Answer. Have: '{output}'. Want: '{expected_output}'.\")\n",
    "\n",
    "        else:\n",
    "            print(\"Correct!\")"
   ]
  },
  {
   "cell_type": "code",
   "execution_count": null,
   "id": "5965ec19-4e72-4924-94a1-01af7183f1c4",
   "metadata": {},
   "outputs": [],
   "source": []
  }
 ],
 "metadata": {
  "kernelspec": {
   "display_name": "PennyLane",
   "language": "python",
   "name": "pennylane"
  },
  "language_info": {
   "codemirror_mode": {
    "name": "ipython",
    "version": 3
   },
   "file_extension": ".py",
   "mimetype": "text/x-python",
   "name": "python",
   "nbconvert_exporter": "python",
   "pygments_lexer": "ipython3",
   "version": "3.9.13"
  }
 },
 "nbformat": 4,
 "nbformat_minor": 5
}
