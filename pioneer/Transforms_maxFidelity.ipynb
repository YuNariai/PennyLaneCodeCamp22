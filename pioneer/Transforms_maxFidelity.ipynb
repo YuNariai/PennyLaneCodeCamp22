{
 "cells": [
  {
   "cell_type": "markdown",
   "id": "a8a35165-b8c4-4266-ac17-f398eafc3820",
   "metadata": {},
   "source": [
    "***Quantum transforms and noise: Maximizing fidelity\n",
    "500 points***\n",
    "\n",
    "Sometimes implementing a quantum gate in a particular device may come at a certain cost. But what if I can produce the quantum state that I want in another way? Or get a similar enough circuit via a different implementation? In this problem, we study the extent to which a circuit with only single-qubit rotation gates can produce a state that is close to some state produced by some target circuit. This target circuit even contains two-qubit gates!\n",
    "\n",
    "We are given the following available circuit"
   ]
  },
  {
   "cell_type": "markdown",
   "id": "9a13ee1f-9387-45be-8cb8-d920e7fa0d5b",
   "metadata": {},
   "source": [
    "![title](dqt_circuit4.png)"
   ]
  },
  {
   "cell_type": "markdown",
   "id": "523d57c6-5fcd-44ab-8502-971702f03c56",
   "metadata": {},
   "source": [
    "which contains only Pauli rotations by an angle of pi/2. Your first task will be to ****use a quantum transform****, already built for you, to make the rotations dependent on six independent parameters. You will then write an optimization routine to find the parameters that ****maximize the fidelity**** between the above circuit and the target circuit below,"
   ]
  },
  {
   "cell_type": "markdown",
   "id": "560a0157-1f57-4364-8927-d64f3a6928f9",
   "metadata": {},
   "source": [
    "![title](dqt_circuit5.png)"
   ]
  },
  {
   "cell_type": "markdown",
   "id": "2af54bbd-385f-4674-bf16-211509690187",
   "metadata": {},
   "source": [
    "which depends on a rotation parameter  and a controlled-rotation parameter  The rotation at the beginning of the circuit can be a Pauli X, Y, or Z rotation."
   ]
  },
  {
   "cell_type": "markdown",
   "id": "34c939cb-bc17-40e0-a3d2-42d406748f8c",
   "metadata": {},
   "source": [
    "***Challenge code***\n",
    "\n",
    "You must complete the optimal_fidelity function to find the maximal fidelity between the 2-qubit output states of the transformed available circuit (after adding independent rotation parameters), and the target circuit.\n",
    "\n",
    "The quantum transform rotate_rots rotates each rotation gate in the available circuit circuit() by an independent parameter. Use it to your advantage!"
   ]
  },
  {
   "cell_type": "markdown",
   "id": "046e0a1f-3410-4804-a569-281b6a2cdc0a",
   "metadata": {},
   "source": [
    "***Input***\n",
    "\n",
    "As input to this problem, you are given:\n",
    "\n",
    "-target_params (list(float)): A list of the two angles $\\alpha$ and $\\beta$ representing the parameters of the target circuit.\n",
    "\n",
    "-pauli_word (str): A string that can be \"X\", \"Y\" or \"Z\", specifying the initial rotation of the target circuit.\n"
   ]
  },
  {
   "cell_type": "code",
   "execution_count": null,
   "id": "dae7dbed-e94c-4a11-a0af-61e59beca595",
   "metadata": {},
   "outputs": [],
   "source": [
    "***Output***\n",
    "\n",
    "This code will output a float corresponding to the maximal fidelity between the output states of both circuits.\n",
    "\n",
    "If your solution matches the correct one within the given tolerance specified in check (in this case it's an absolute tolerance of 0.01), the output will be \"Correct!\". Otherwise, you will receive a \"Wrong answer\" prompt.\n",
    "\n",
    "Good luck!\n"
   ]
  },
  {
   "cell_type": "markdown",
   "id": "0ae33c07-76a5-4440-bea4-04dcbc71596d",
   "metadata": {},
   "source": [
    "***Code***"
   ]
  },
  {
   "cell_type": "code",
   "execution_count": 1,
   "id": "17b4ef80-0997-4ba8-9b6c-05fa20e25f86",
   "metadata": {},
   "outputs": [],
   "source": [
    "import functools\n",
    "import json\n",
    "import math\n",
    "import pandas as pd\n",
    "import pennylane as qml\n",
    "import pennylane.numpy as np\n",
    "import scipy"
   ]
  },
  {
   "cell_type": "code",
   "execution_count": 2,
   "id": "21e9df8c-e7d5-4287-817c-baf58fb22b17",
   "metadata": {},
   "outputs": [],
   "source": [
    "@qml.qfunc_transform\n",
    "def rotate_rots(tape, params):\n",
    "    for op in tape.operations + tape.measurements:\n",
    "        if op.name == \"RX\":\n",
    "            if list(op.wires) == [0]:\n",
    "                qml.RX(op.parameters[0] + params[0], wires=op.wires)\n",
    "            else:\n",
    "                qml.RX(op.parameters[0] + params[1], wires=op.wires)\n",
    "        elif op.name == \"RY\":\n",
    "            if list(op.wires) == [0]:\n",
    "                qml.RY(op.parameters[0] + params[2], wires=op.wires)\n",
    "            else:\n",
    "                qml.RY(op.parameters[0] + params[3], wires=op.wires)\n",
    "        elif op.name == \"RZ\":\n",
    "            if list(op.wires) == [0]:\n",
    "                qml.RZ(op.parameters[0] + params[4], wires=op.wires)\n",
    "            else:\n",
    "                qml.RZ(op.parameters[0] + params[5], wires=op.wires)\n",
    "        else:\n",
    "            qml.apply(op)\n",
    "\n",
    "def circuit():\n",
    "    qml.RX(np.pi / 2, wires=0)\n",
    "    qml.RY(np.pi / 2, wires=0)\n",
    "    qml.RZ(np.pi / 2, wires=0)\n",
    "    qml.RX(np.pi / 2, wires=1)\n",
    "    qml.RY(np.pi / 2, wires=1)\n",
    "    qml.RZ(np.pi / 2, wires=1)"
   ]
  },
  {
   "cell_type": "code",
   "execution_count": 3,
   "id": "96ac7255-ebf6-4210-a3eb-09f73b60788e",
   "metadata": {},
   "outputs": [],
   "source": [
    "def optimal_fidelity(target_params, pauli_word):\n",
    "\n",
    "    \"\"\"This function returns the maximum fidelity between the final state that we obtain with only\n",
    "    Pauli rotations with respect to the state we obtain with the target circuit\n",
    "\n",
    "    Args:\n",
    "        - target_params (list(float)): List of the two parameters in the target circuit. The first is\n",
    "        the parameter of the Pauli Rotation, the second is the parameter of the CRX gate.\n",
    "        - pauli_word: A string that is either 'X', 'Y', or 'Z', depending on the Pauli rotation\n",
    "        implemented by the target circuit.\n",
    "    Returns:\n",
    "        - (float): Maximum fidelity between the states produced by both circuits.\n",
    "    \"\"\"\n",
    "\n",
    "    dev = qml.device(\"default.qubit\", wires=2)\n",
    "\n",
    "    @qml.qnode(dev)\n",
    "    def target_circuit(target_params, pauli_word):\n",
    "        \"\"\"This QNode is target circuit whose effect we want to emulate\"\"\"\n",
    "        # Put your code here #\n",
    "        if pauli_word == \"X\":\n",
    "            qml.RX(target_params[0], wires=0)\n",
    "        if pauli_word == \"Y\":\n",
    "            qml.RY(target_params[0], wires=0)\n",
    "        if pauli_word == \"Z\":\n",
    "            qml.RZ(target_params[0], wires=0)\n",
    "        qml.CRX(target_params[1], wires=[0,1])\n",
    "        qml.T(0)\n",
    "        qml.S(1)\n",
    "        \n",
    "        return qml.state()\n",
    "\n",
    "    @qml.qnode(dev)\n",
    "    def rotated_circuit(rot_params):\n",
    "        \"\"\"This QNode is the available circuit, with rotated parameters\n",
    "\n",
    "        Inputs:\n",
    "        rot_params list(float): A list containing the values of the independent rotation parameters\n",
    "        for each gate in the available circuit. The order will not matter, since you are optimizing\n",
    "        for these and will return the minimal value of a cost function (related\n",
    "        to the fidelity)\n",
    "        \"\"\"\n",
    "        # Put your code here #\n",
    "        rotate_rots(rot_params)(circuit)()\n",
    "        return qml.state()\n",
    "\n",
    "    # Write an optimization routine for an adequate cost function.\n",
    "    target_state = target_circuit(target_params, pauli_word)\n",
    "\n",
    "    def error(params):\n",
    "        \"\"\"\n",
    "        This function determines the similarity between rotated circuit state and the target state.\n",
    "\n",
    "        Args:\n",
    "            - params (array): The 6 parameters of the model.\n",
    "\n",
    "        Returns:\n",
    "            - (float): Error associated with the quality of the solution.\n",
    "        \"\"\"\n",
    "        \n",
    "\n",
    "        errors = 1-np.abs(qml.math.dot(np.conj(target_state), rotated_circuit(params)))**2\n",
    "        return errors\n",
    "\n",
    "        \n",
    "    # Put your code here #\n",
    "    init_params = np.random.rand(6)\n",
    "    opt = qml.AdagradOptimizer(stepsize=0.4)\n",
    "    steps = 15\n",
    "    params = init_params\n",
    "\n",
    "    for _ in range(steps):\n",
    "        params = opt.step(error, params)\n",
    "\n",
    "    \n",
    "    # Return the maximal fidelity after optimizing angles.\n",
    "    return qml.math.fidelity(target_state, rotated_circuit(params))"
   ]
  },
  {
   "cell_type": "code",
   "execution_count": 4,
   "id": "c3d42a90-c785-434b-a755-13ff80b0fa79",
   "metadata": {},
   "outputs": [],
   "source": [
    "# These functions are responsible for testing the solution.\n",
    "\n",
    "def run(test_case_input: str) -> str:\n",
    "\n",
    "    ins = json.loads(test_case_input)\n",
    "    output = optimal_fidelity(*ins)\n",
    "\n",
    "    return str(output)\n",
    "\n",
    "def check(solution_output: str, expected_output: str) -> None:\n",
    "    \"\"\"\n",
    "    Compare solution with expected.\n",
    "\n",
    "    Args:\n",
    "            solution_output: The output from an evaluated solution. Will be\n",
    "            the same type as returned.\n",
    "            expected_output: The correct result for the test case.\n",
    "\n",
    "    Raises:\n",
    "            ``AssertionError`` if the solution output is incorrect in any way.\n",
    "    \"\"\"\n",
    "\n",
    "    solution_output = json.loads(solution_output)\n",
    "    expected_output = json.loads(expected_output)\n",
    "    assert np.allclose(\n",
    "        solution_output, expected_output, rtol=1e-2\n",
    "    ), \"Your calculated optimal fidelity isn't quite right.\""
   ]
  },
  {
   "cell_type": "code",
   "execution_count": 5,
   "id": "cc715cc4-071c-4d9a-9f78-38e604f90264",
   "metadata": {},
   "outputs": [],
   "source": [
    "test_cases = [['[[1.6,0.9],\"X\"]', '0.9502'], ['[[0.4,0.5],\"Y\"]', '0.9977']]"
   ]
  },
  {
   "cell_type": "code",
   "execution_count": 6,
   "id": "fba7848e-49b0-43b6-b1ea-b50b3e6c16d5",
   "metadata": {},
   "outputs": [
    {
     "name": "stdout",
     "output_type": "stream",
     "text": [
      "Running test case 0 with input '[[1.6,0.9],\"X\"]'...\n",
      "Correct!\n",
      "Running test case 1 with input '[[0.4,0.5],\"Y\"]'...\n",
      "Correct!\n"
     ]
    }
   ],
   "source": [
    "for i, (input_, expected_output) in enumerate(test_cases):\n",
    "    print(f\"Running test case {i} with input '{input_}'...\")\n",
    "\n",
    "    try:\n",
    "        output = run(input_)\n",
    "\n",
    "    except Exception as exc:\n",
    "        print(f\"Runtime Error. {exc}\")\n",
    "\n",
    "    else:\n",
    "        if message := check(output, expected_output):\n",
    "            print(f\"Wrong Answer. Have: '{output}'. Want: '{expected_output}'.\")\n",
    "\n",
    "        else:\n",
    "            print(\"Correct!\")"
   ]
  },
  {
   "cell_type": "code",
   "execution_count": null,
   "id": "585be47e-9093-476e-8aad-c03f34b3f138",
   "metadata": {},
   "outputs": [],
   "source": []
  }
 ],
 "metadata": {
  "kernelspec": {
   "display_name": "PennyLane",
   "language": "python",
   "name": "pennylane"
  },
  "language_info": {
   "codemirror_mode": {
    "name": "ipython",
    "version": 3
   },
   "file_extension": ".py",
   "mimetype": "text/x-python",
   "name": "python",
   "nbconvert_exporter": "python",
   "pygments_lexer": "ipython3",
   "version": "3.9.13"
  }
 },
 "nbformat": 4,
 "nbformat_minor": 5
}
