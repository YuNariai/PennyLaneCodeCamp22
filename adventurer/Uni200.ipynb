{
 "cells": [
  {
   "cell_type": "markdown",
   "id": "b5686818-4d31-4c3f-8451-ec641e82126d",
   "metadata": {},
   "source": [
    "# Universality: U3 and CNOT decomposition (200 points)"
   ]
  },
  {
   "attachments": {
    "34317df9-2d8b-451c-9568-6e42290d29d3.png": {
     "image/png": "[encoded data removed]"
    }
   },
   "cell_type": "markdown",
   "id": "82557cb4-d7dd-48fa-a119-46e7cb348911",
   "metadata": {},
   "source": [
    "In the explorer universality challenge we introduced the concept of universality but we focused only on a single qubit. Today we will make things more difficult. It has been proven that with the parametric gate U3 and the CNOT gate we can build any operator. In this exercise, we will be asked to work with the following matrix:\n",
    "\n",
    "![image.png](attachment:34317df9-2d8b-451c-9568-6e42290d29d3.png)\n",
    "\n",
    "You are asked to create an operator in which only U3 and CNOT gates are used and whose associated matrix is the above. Remember that to check the matrix of an operator you can use the `qml.matrix` function. Let's see an example:\n",
    "\n",
    "```python\n",
    "def circuit():\n",
    "    qml.PauliX(wires = 0)\n",
    "    qml.Hadamard(wires = 1)\n",
    "    \n",
    "\n",
    ">> qml.matrix(circuit)()\n",
    "```\n",
    "\n",
    "```python\n",
    "array([[ 0.        ,  0.        ,  0.70710678,  0.70710678],\n",
    "       [ 0.        ,  0.        ,  0.70710678, -0.70710678],\n",
    "       [ 0.70710678,  0.70710678,  0.        ,  0.        ],\n",
    "       [ 0.70710678, -0.70710678,  0.        ,  0.        ]])\n",
    "```\n",
    "\n",
    "To evaluate your solution, it will be checked that the matrices match and that the gates used are the ones allowed."
   ]
  },
  {
   "cell_type": "markdown",
   "id": "50becdce-acef-425c-9d8d-596fd5a6bd6f",
   "metadata": {
    "tags": []
   },
   "source": [
    "### Challenge code\n",
    "\n",
    "You must complete the `circuit()` function below. Inside the function you simply have to include the necessary operations to generate the requested matrix.\n",
    "\n",
    "\n",
    "#### Input and Output\n",
    "In this challenge, we will not have inputs and outputs. The test will be done by checking that the matrix of your circuit coincides with that of the statement. When testing yourself, you can always print the matrix using `qml.matrix(circuit, wire_order=[0,1,2])`.\n",
    " \n",
    "If your solution matches the correct one within the given tolerance specified in `check` (in this case it's a `1e-05` absolute error tolerance), the output will be `\"Correct!\"`. Otherwise, you will receive a `\"Wrong answer\"` prompt.\n",
    "\n",
    "Good luck!"
   ]
  },
  {
   "cell_type": "code",
   "execution_count": 1,
   "id": "fcc32712-07a3-4615-9636-4ea591bc1af9",
   "metadata": {},
   "outputs": [],
   "source": [
    "import functools\n",
    "import json\n",
    "import math\n",
    "import pandas as pd\n",
    "import pennylane as qml\n",
    "import pennylane.numpy as np\n",
    "import scipy"
   ]
  },
  {
   "cell_type": "code",
   "execution_count": 2,
   "id": "80d5e48b-7bb3-4aeb-a270-3e91e9249172",
   "metadata": {},
   "outputs": [],
   "source": [
    "def circuit():\n",
    "    \"\"\"\n",
    "    Succession of gates that will generate the requested matrix.\n",
    "    This function does not receive any arguments nor does it return any values.\n",
    "    \"\"\"\n",
    "    t1, t2, t3, t4, p1, p2, p3, p4, d1, d2, d3, d4=[ np.pi,  np.pi/2,  np.pi,\n",
    "         np.pi/2, 3.56701113e+00, np.pi, 1.10603038e+00, 2.21686733e+00,\n",
    "        2.03555793e+00, 9.24727050e-01, 2.71616983e+00, 0.0]\n",
    "    qml.U3(t1,p1,d1,[0])\n",
    "    qml.U3(t2,p2,d2, [1])\n",
    "    qml.CNOT(wires=[0,1])\n",
    "    qml.U3(t3,p3,d3,[0])\n",
    "    qml.U3(t4,p4,d4,[1])\n",
    "    qml.U3(np.pi/2,0.0,np.pi, wires=2)\n",
    "    # Put your solution here ...\n",
    "    # You only have to put U3 or CNOT gates"
   ]
  },
  {
   "cell_type": "code",
   "execution_count": 3,
   "id": "57da4413-8c71-4ac1-851d-cdc5acd0c9d3",
   "metadata": {},
   "outputs": [],
   "source": [
    "# These functions are responsible for testing the solution.\n",
    "\n",
    "def run(input: str) -> str:\n",
    "    matrix = qml.matrix(circuit)().real\n",
    "\n",
    "    with qml.tape.QuantumTape() as tape:\n",
    "        circuit()\n",
    "\n",
    "    names = [op.name for op in tape.operations]\n",
    "    return json.dumps({\"matrix\": matrix.tolist(), \"gates\": names})\n",
    "\n",
    "def check(user_output: str, expected_output: str) -> str:\n",
    "    parsed_output = json.loads(user_output)\n",
    "    matrix_user = np.array(parsed_output[\"matrix\"])\n",
    "    gates = parsed_output[\"gates\"]\n",
    "\n",
    "    solution = (\n",
    "        1\n",
    "        / np.sqrt(2)\n",
    "        * np.array(\n",
    "            [\n",
    "                [1, 1, 0, 0, 0, 0, 0, 0],\n",
    "                [1, -1, 0, 0, 0, 0, 0, 0],\n",
    "                [0, 0, -1, -1, 0, 0, 0, 0],\n",
    "                [0, 0, -1, 1, 0, 0, 0, 0],\n",
    "                [0, 0, 0, 0, 1, 1, 0, 0],\n",
    "                [0, 0, 0, 0, 1, -1, 0, 0],\n",
    "                [0, 0, 0, 0, 0, 0, 1, 1],\n",
    "                [0, 0, 0, 0, 0, 0, 1, -1],\n",
    "            ]\n",
    "        )\n",
    "    )\n",
    "\n",
    "    assert np.allclose(matrix_user, solution)\n",
    "    assert len(set(gates)) == 2 and \"U3\" in gates and \"CNOT\" in gates"
   ]
  },
  {
   "cell_type": "code",
   "execution_count": 4,
   "id": "1a2df1f9-81e9-469a-b051-2e12d8992b99",
   "metadata": {},
   "outputs": [],
   "source": [
    "test_cases = [['No input', 'No output']]"
   ]
  },
  {
   "cell_type": "code",
   "execution_count": 5,
   "id": "e564d445-7203-4692-bdb3-443886b31730",
   "metadata": {},
   "outputs": [
    {
     "name": "stdout",
     "output_type": "stream",
     "text": [
      "Running test case 0 with input 'No input'...\n",
      "Correct!\n"
     ]
    }
   ],
   "source": [
    "for i, (input_, expected_output) in enumerate(test_cases):\n",
    "    print(f\"Running test case {i} with input '{input_}'...\")\n",
    "\n",
    "    try:\n",
    "        output = run(input_)\n",
    "\n",
    "    except Exception as exc:\n",
    "        print(f\"Runtime Error. {exc}\")\n",
    "\n",
    "    else:\n",
    "        if message := check(output, expected_output):\n",
    "            print(f\"Wrong Answer. Have: '{output}'. Want: '{expected_output}'.\")\n",
    "\n",
    "        else:\n",
    "            print(\"Correct!\")"
   ]
  }
 ],
 "metadata": {
  "kernelspec": {
   "display_name": "PennyLane",
   "language": "python",
   "name": "pennylane"
  },
  "language_info": {
   "codemirror_mode": {
    "name": "ipython",
    "version": 3
   },
   "file_extension": ".py",
   "mimetype": "text/x-python",
   "name": "python",
   "nbconvert_exporter": "python",
   "pygments_lexer": "ipython3",
   "version": "3.9.13"
  }
 },
 "nbformat": 4,
 "nbformat_minor": 5
}
