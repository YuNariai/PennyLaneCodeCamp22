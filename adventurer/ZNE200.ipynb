{
 "cells": [
  {
   "cell_type": "markdown",
   "id": "0832f60e-9d04-4370-a385-0e85a0860a03",
   "metadata": {},
   "source": [
    "# Differentiable ZNE: Global circuit folding (200 points)"
   ]
  },
  {
   "cell_type": "markdown",
   "id": "f1955107-1105-41ba-be45-284b0c6230b5",
   "metadata": {},
   "source": [
    "In the \"Explorer\" level challenge, you looked at modelling noise in a quantum computer. Let's take an adventure into the realm of error-mitigation with the introduction of *global circuit folding*.\n",
    "\n",
    "Error mitigation is the idea that we can bypass, or mitigate, errors that are present in real quantum hardware without actually doing anything to the hardware itself. Remember those bitflip errors you looked at? What if there was a way to get rid of them without actually getting rid of them?\n",
    "\n",
    "How can we do this in practice? With zero-noise extrapolation (ZNE)!\n",
    "\n",
    "The ZNE protocol approaches error mitigation in a somewhat backwards way; instead of coming up with a way to reduce the error directly, we *instead* increase the error and extrapolate *bac*k to zero error. In other words, we want to create more noise in order to extrapolate less noise. So how do we create more noise?\n",
    "\n",
    "One way to create more noise in a quantum circuit being run on real hardware is to increase the depth of the quantum circuit. Imagine I have some unitary $U$ that describes my quantum circuit. I still want my circuit to effectively be described by $U$, but what's to stop us from doing this: $U\\rightarrow U\\mathbb{I}^{n}=U(U^{+}U)^{n}$? At the end of the day, the circuit is still doing the same thing, but we've increased the number of gates in the circuit $d$ to be $d\\rightarrow d(2n+1)$. If programming each gate onto a real device imparts some noise, we've introduced more noise from this mapping!\n",
    "\n",
    "We can generalize the mapping $U\\rightarrow U(U^{+}U)^{n}$ further by including partial folds:\n",
    "\n",
    "$U\\rightarrow U(U^{+}U)^{n}\\rightarrow U(U^{+}U)^{n}L_{d}^{+}...L_{s}^{+}L_{s}...L_{d}$\n",
    "\n",
    "where $s\\in \\left [ 1,d \\right ]$ and $L_{i}$ denotes a quantum gate within $U$. Specifically, $U=L_{1}L_{2}...L_{s}...L_{d}$. In this challenge, you will implement a noisy circuit $U(U^{+}U)^{n}L_{d}^{+}...L_{s}^{+}L_{s}...L_{d}$."
   ]
  },
  {
   "attachments": {
    "a0f80121-510b-47ad-b16b-f20d35b14edc.png": {
     "image/png": "[encoded data removed]"
    }
   },
   "cell_type": "markdown",
   "id": "02581773-1e8e-42f8-a543-c2e6f83147bb",
   "metadata": {
    "tags": []
   },
   "source": [
    "### Challenge code\n",
    "\n",
    "The provided code below contains several functions:\n",
    "\n",
    "- `U`: A quantum function that applies the gates in the circuit (i.e. all of the $L_{i}$'s):\n",
    "\n",
    "![image.png](attachment:a0f80121-510b-47ad-b16b-f20d35b14edc.png)\n",
    "\n",
    "- `circuit`: A noisy circuit using , where noise is placed on every gate (see dev_noisy). Here, the noise is described by a depolarizing channel.\n",
    "- `circuit_ops`: A function that returns all of the gates in `circuit`.\n",
    "- `global_fold_circuit`: A noisy circuit that implements the global circuit folding protocol: $U(U^{+}U)^{n}L_{d}^{+}...L_{s}^{+}L_{s}...L_{d}$. **You must complete this function**.\n",
    "- `fidelity`: A function that calculates the fidelity between the output state from `circuit` (i.e. the original circuit) and the state from `global_fold_circuit`. Your `global_fold_circuit` function's validity will be assessed via the `fidelity` function.\n",
    "\n",
    "#### Input\n",
    "As input to this problem, you will be given:\n",
    "\n",
    "- `angle`: a rotation angle needed to define `U`\n",
    "- `n`: the number of times $U^{+}U$ gets implemented\n",
    "- `s`: the parameter that defines $L_{s}...L_{d}$\n",
    "Please note that `s` will be given as an integer $\\left [ 1,d \\right ]$. Make sure to index properly!\n",
    "#### Output\n",
    "\n",
    "This code will output the fidelity, a float, between the output state from circuit and the state from `global_fold_circuit`.\n",
    "\n",
    "If your solution matches the correct one within the given tolerance specified in `check` (in this case it's a `1e-4` relative error tolerance), the output will be `\"Correct!\"`. Otherwise, you will receive a `\"Wrong answer\"` prompt.\n",
    "\n",
    "Good luck!"
   ]
  },
  {
   "cell_type": "code",
   "execution_count": 1,
   "id": "38b7efa2-e6dd-4f22-9fd6-547e8d05e0a2",
   "metadata": {},
   "outputs": [],
   "source": [
    "import functools\n",
    "import json\n",
    "import math\n",
    "import pandas as pd\n",
    "import pennylane as qml\n",
    "import pennylane.numpy as np\n",
    "import scipy"
   ]
  },
  {
   "cell_type": "code",
   "execution_count": 2,
   "id": "8bd0e43d-aa3b-4b73-8894-8f15df586af8",
   "metadata": {},
   "outputs": [],
   "source": [
    "dev_ideal = qml.device(\"default.mixed\", wires=2)  # no noise\n",
    "dev_noisy = qml.transforms.insert(qml.DepolarizingChannel, 0.05, position=\"all\")(\n",
    "    dev_ideal\n",
    ")\n",
    "\n",
    "def U(angle):\n",
    "    \"\"\"A quantum function containing one parameterized gate.\n",
    "\n",
    "    Args:\n",
    "        angle (float): The phase angle for an IsingXY operator\n",
    "    \"\"\"\n",
    "    qml.Hadamard(0)\n",
    "    qml.Hadamard(1)\n",
    "    qml.CNOT(wires=[0, 1])\n",
    "    qml.PauliZ(1)\n",
    "    qml.IsingXY(angle, [0, 1])\n",
    "    qml.S(1)\n",
    "\n",
    "@qml.qnode(dev_noisy)\n",
    "def circuit(angle):\n",
    "    \"\"\"A quantum circuit made from the quantum function U.\n",
    "\n",
    "    Args:\n",
    "        angle (float): The phase angle for an IsingXY operator\n",
    "\n",
    "    Returns:\n",
    "        (numpy.array): A quantum state.\n",
    "    \"\"\"\n",
    "    U(angle)\n",
    "    return qml.state()\n",
    "\n",
    "@qml.tape.stop_recording()\n",
    "def circuit_ops(angle):\n",
    "    \"\"\"A function that outputs the operations within the quantum function U.\n",
    "\n",
    "    Args:\n",
    "        angle (float): The phase angle for an IsingXY operator\n",
    "\n",
    "    Returns:\n",
    "        (list(qml.operation.Operation)): A list of operations that make up the unitary U.\n",
    "    \"\"\"\n",
    "    with qml.tape.QuantumTape() as tape:\n",
    "        U(angle)\n",
    "    return tape.operations"
   ]
  },
  {
   "cell_type": "code",
   "execution_count": 3,
   "id": "ddde99c6-602f-46c4-810c-0722b0e9d8bd",
   "metadata": {},
   "outputs": [],
   "source": [
    "@qml.qnode(dev_noisy)\n",
    "def global_fold_circuit(angle, n, s):\n",
    "    \"\"\"Performs the global circuit folding procedure.\n",
    "\n",
    "    Args:\n",
    "        angle (float): The phase angle for an IsingXY operator\n",
    "        n: The number of times U^\\dagger U is applied\n",
    "        s: The integer defining L_s ... L_d.\n",
    "\n",
    "    Returns:\n",
    "        (numpy.array): A quantum state.\n",
    "    \"\"\"\n",
    "    assert s <= len(\n",
    "        circuit_ops(angle)\n",
    "    ), \"The value of s is upper-bounded by the number of gates in the circuit.\"\n",
    "\n",
    "    U(angle)  # Original circuit application\n",
    "\n",
    "\n",
    "    # Put your code here #\n",
    "   # Put your code here #\n",
    "    d = len(circuit_ops(angle))\n",
    "    print(\"d is: \" + str(d))\n",
    "    for i in range(n):\n",
    "        qml.adjoint(U)(angle)\n",
    "        U(angle)\n",
    "        \n",
    "    # L_d^\\dagger ... L_s^\\dagger\n",
    "\n",
    "    for i in range(d-1, s-2, -1):\n",
    "        qml.adjoint(circuit_ops(angle)[i])\n",
    "\n",
    "    # L_s ... L_d\n",
    "    for i in range(s-1, d):\n",
    "        qml.apply(circuit_ops(angle)[i])\n",
    "        \n",
    "    return qml.state()"
   ]
  },
  {
   "cell_type": "code",
   "execution_count": 4,
   "id": "3673f132-09e1-4e41-ba07-eda805a846bc",
   "metadata": {},
   "outputs": [],
   "source": [
    "def fidelity(angle, n, s):\n",
    "    fid = qml.math.fidelity(global_fold_circuit(angle, n, s), circuit(angle))\n",
    "    return np.round_(fid, decimals=5)"
   ]
  },
  {
   "cell_type": "code",
   "execution_count": 5,
   "id": "55fd7700-df72-4b67-b86a-84aba6dde174",
   "metadata": {},
   "outputs": [],
   "source": [
    "# These functions are responsible for testing the solution.\n",
    "\n",
    "def run(test_case_input: str) -> str:\n",
    "    angle, n, s = json.loads(test_case_input)\n",
    "    fid = fidelity(angle, n, s)\n",
    "    return str(fid)\n",
    "\n",
    "def check(solution_output: str, expected_output: str) -> None:\n",
    "    solution_output = json.loads(solution_output)\n",
    "    expected_output = json.loads(expected_output)\n",
    "    assert np.allclose(\n",
    "        solution_output, expected_output, rtol=1e-4\n",
    "    ), \"Your folded circuit isn't quite right!\""
   ]
  },
  {
   "cell_type": "code",
   "execution_count": 6,
   "id": "aeee2ccc-d9ad-46e8-a4bc-52e07580f936",
   "metadata": {},
   "outputs": [],
   "source": [
    "test_cases = [['[0.4, 2, 3]', '0.79209']]"
   ]
  },
  {
   "cell_type": "code",
   "execution_count": 7,
   "id": "0394c185-7f60-41ec-aa46-97709c53f35d",
   "metadata": {},
   "outputs": [
    {
     "name": "stdout",
     "output_type": "stream",
     "text": [
      "Running test case 0 with input '[0.4, 2, 3]'...\n",
      "d is: 6\n",
      "Correct!\n"
     ]
    }
   ],
   "source": [
    "for i, (input_, expected_output) in enumerate(test_cases):\n",
    "    print(f\"Running test case {i} with input '{input_}'...\")\n",
    "\n",
    "    try:\n",
    "        output = run(input_)\n",
    "\n",
    "    except Exception as exc:\n",
    "        print(f\"Runtime Error. {exc}\")\n",
    "\n",
    "    else:\n",
    "        if message := check(output, expected_output):\n",
    "            print(f\"Wrong Answer. Have: '{output}'. Want: '{expected_output}'.\")\n",
    "\n",
    "        else:\n",
    "            print(\"Correct!\")"
   ]
  }
 ],
 "metadata": {
  "kernelspec": {
   "display_name": "PennyLane",
   "language": "python",
   "name": "pennylane"
  },
  "language_info": {
   "codemirror_mode": {
    "name": "ipython",
    "version": 3
   },
   "file_extension": ".py",
   "mimetype": "text/x-python",
   "name": "python",
   "nbconvert_exporter": "python",
   "pygments_lexer": "ipython3",
   "version": "3.9.13"
  }
 },
 "nbformat": 4,
 "nbformat_minor": 5
}
