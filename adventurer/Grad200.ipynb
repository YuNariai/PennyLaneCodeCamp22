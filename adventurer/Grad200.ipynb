{
 "cells": [
  {
   "cell_type": "markdown",
   "id": "81fde8b3-828c-42fa-9ef0-e79dad95b7fd",
   "metadata": {},
   "source": [
    "# Gradients: A four-term parameter-shift rule (200 points)"
   ]
  },
  {
   "cell_type": "markdown",
   "id": "3c803c81-253d-455d-b93a-1f7e45793ee4",
   "metadata": {},
   "source": [
    "In the last problem, you learned about the two-term parameter-shift rule for the Pauli rotation gates. The parameter-shift rule isn't limited to the Pauli rotation gates, and in this problem you'll adventure into more complicated parameter shift rules!\n",
    "\n",
    "Arguably the next simplest parameter-shift rule compared to the Pauli rotation gates is that of the *controlled* Pauli rotation gates: $CRX$, $CRY$, and $CRZ$. Let's highlight the key differences between the parameter-shift rule for the controlled Pauli rotations and the regular Pauli rotations.\n",
    "\n",
    "- Four terms: the parameter-shift rule for the controlled Pauli rotations contains four terms, not two!\n",
    "- Shifts: for the parameter-shift rule for the Pauli rotations, we could use any real-valued shift $s$ for it to work. Here, it's not so simple! The coefficients of the shift rule and the shifts themselves depend on each other!\n",
    "The parameter-shift rule looks something like this:\n",
    "\n",
    "$\\frac{\\partial }{\\partial \\theta _{i}} f(\\vec{\\theta} )=c_{1}(f(\\theta _{i}+s _{1})-f(\\theta _{i}-s _{1}))-c_{2}(f(\\theta _{i}+s _{2})-f(\\theta _{i}-s _{2}))$\n",
    "\n",
    "where the shifts $s_{i}$ and coefficients $c_{i}$ depend on each other. You'll have to do some digging to figure out how to calculate them... but there isn't a unique solution!"
   ]
  },
  {
   "cell_type": "markdown",
   "id": "d80a44b9-1348-46c9-be18-6c0215df7e61",
   "metadata": {
    "tags": []
   },
   "source": [
    "### Challenge code\n",
    "\n",
    "In the code below, you are given a few functions:\n",
    "\n",
    "- `circuit`: This describes the function $f(\\vec{\\theta} )$.\n",
    "- `shifts_and_coeffs`: This function calculates $s_{1}$, $s_{2}$, $c_{1}$, and $c_{2}$. No fancy calculations are needed here; you can simply state, for example, $s_{1}=1.23$ and $s_{2}=4.56$ and return those values. **You must complete this function.**\n",
    "- `my_parameter_shift_grad`: This is where you will implement calculating $\\frac{\\partial }{\\partial \\theta _{i}} f(\\vec{\\theta} )$ for every $\\theta _{i}\\in \\vec{\\theta }$. It will return the gradient, which is a vector containing every partial derivative. **You must complete this function.**\n",
    "\n",
    "#### Input\n",
    "As input to this problem, you are given `params (list(float))`, which correspond to the differentiable circuit parameters $\\vec{\\theta}$.\n",
    "#### Output\n",
    "\n",
    "This code will output the `gradient (list(float)) of the `circuit`.\n",
    "\n",
    "If your solution matches the correct one within the given tolerance specified in `check` (in this case it's a `1e-4` relative error tolerance), the output will be `\"Correct!\"`. Otherwise, you will receive a `\"Wrong answer\"` prompt.\n",
    "\n",
    "Good luck!"
   ]
  },
  {
   "cell_type": "code",
   "execution_count": 1,
   "id": "3eb40220-d56f-4e36-a4e6-29bd514369f7",
   "metadata": {},
   "outputs": [],
   "source": [
    "import functools\n",
    "import json\n",
    "import math\n",
    "import pandas as pd\n",
    "import pennylane as qml\n",
    "import pennylane.numpy as np\n",
    "import scipy"
   ]
  },
  {
   "cell_type": "code",
   "execution_count": 2,
   "id": "f4fc19de-6be4-435b-a221-0b0ca121b353",
   "metadata": {},
   "outputs": [],
   "source": [
    "dev = qml.device(\"default.qubit\", wires=3)\n",
    "\n",
    "@qml.qnode(dev)\n",
    "def circuit(params):\n",
    "    \"\"\"The quantum circuit that you will differentiate!\n",
    "\n",
    "    Args:\n",
    "        params (list(float)): The parameters for gates in the circuit\n",
    "    \n",
    "    Returns:\n",
    "        (numpy.array): An expectation value. \n",
    "    \"\"\"\n",
    "    qml.broadcast(qml.Hadamard, wires=range(3), pattern=\"single\")\n",
    "    qml.CRX(params[0], [1, 2])\n",
    "    qml.CRY(params[1], [0, 1])\n",
    "    qml.CRZ(params[2], [2, 0])\n",
    "    return qml.expval(qml.PauliZ(0) + qml.PauliZ(1) + qml.PauliX(2))"
   ]
  },
  {
   "cell_type": "code",
   "execution_count": 3,
   "id": "f9355be0-b93f-492e-885b-3c83a073f5c0",
   "metadata": {},
   "outputs": [],
   "source": [
    "def shifts_and_coeffs():\n",
    "    \"\"\"A function that defines the shift amounts and coefficients needed for\n",
    "    defining a parameter-shift rule for CRX, CRY, and CRZ gates.\n",
    "\n",
    "    Returns:\n",
    "        shifts (list(float)): A list of shift amounts. Order them however you want!\n",
    "        coeffs (list(float)): A list of coefficients. Order them however you want!\n",
    "    \"\"\"\n",
    "    # Put your code here and make sure to return what is needed #\n",
    "    s1 = np.pi/2\n",
    "    s2 = 3*np.pi/2\n",
    "    c1 = (math.sqrt(2)+1)/4/math.sqrt(2)\n",
    "    c2 = (math.sqrt(2)-1)/4/math.sqrt(2)\n",
    "    return [s1,s2],[c1,c2]\n",
    "\n",
    "def my_parameter_shift_grad(params):\n",
    "    \"\"\"Your homemade parameter-shift rule function!\n",
    "    NOTE: you cannot use qml.grad within this function\n",
    "\n",
    "    Args:\n",
    "        params (list(float)): The parameters for gates in the circuit\n",
    "    \n",
    "    Returns:\n",
    "        gradient (numpy.array): The gradient of the circuit with respect to the given parameters.\n",
    "    \"\"\"\n",
    "    gradient = np.zeros_like(params)\n",
    "\n",
    "    shifts, coeffs = shifts_and_coeffs()\n",
    "\n",
    "    for i in range(len(params)):\n",
    "        # Put your code here\n",
    "        shifted_params1_add = np.copy(params)\n",
    "        shifted_params1_add[i] += shifts[0]\n",
    "        shifted_params1_minus = np.copy(params)\n",
    "        shifted_params1_minus[i] -= shifts[0]\n",
    "        \n",
    "        shifted_params2_add = np.copy(params)\n",
    "        shifted_params2_add[i] += shifts[1]\n",
    "        shifted_params2_minus = np.copy(params)\n",
    "        shifted_params2_minus[i] -= shifts[1]\n",
    "        \n",
    "        gradient[i] = (coeffs[0]*(circuit(shifted_params1_add)-circuit(shifted_params1_minus))-\n",
    "                       coeffs[1]*(circuit(shifted_params2_add)-circuit(shifted_params2_minus)))\n",
    "    \n",
    "    return np.round_(gradient, decimals=5).tolist()"
   ]
  },
  {
   "cell_type": "code",
   "execution_count": 4,
   "id": "24b37586-9a6a-4a2a-a7c2-42e5ee470261",
   "metadata": {},
   "outputs": [],
   "source": [
    "# These functions are responsible for testing the solution.\n",
    "\n",
    "def run(test_case_input: str) -> str:\n",
    "    params = json.loads(test_case_input)\n",
    "    gradient = my_parameter_shift_grad(params)\n",
    "    return str(gradient)\n",
    "\n",
    "def check(solution_output: str, expected_output: str) -> None:\n",
    "    solution_output = json.loads(solution_output)\n",
    "    expected_output = json.loads(expected_output)\n",
    "    assert np.allclose(\n",
    "        solution_output, expected_output, rtol=1e-4\n",
    "    ), \"Your gradient isn't quite right!\""
   ]
  },
  {
   "cell_type": "code",
   "execution_count": 5,
   "id": "c5d341f8-46a9-467e-93d2-a96bf53692d5",
   "metadata": {},
   "outputs": [],
   "source": [
    "test_cases = [['[1.23, 0.6, 4.56]', '[0.08144, -0.33706, -0.37944]']]"
   ]
  },
  {
   "cell_type": "code",
   "execution_count": 6,
   "id": "b81d75f9-efe2-4fc4-b2f2-19157cb18f0d",
   "metadata": {},
   "outputs": [
    {
     "name": "stdout",
     "output_type": "stream",
     "text": [
      "Running test case 0 with input '[1.23, 0.6, 4.56]'...\n",
      "Correct!\n"
     ]
    }
   ],
   "source": [
    "for i, (input_, expected_output) in enumerate(test_cases):\n",
    "    print(f\"Running test case {i} with input '{input_}'...\")\n",
    "\n",
    "    try:\n",
    "        output = run(input_)\n",
    "\n",
    "    except Exception as exc:\n",
    "        print(f\"Runtime Error. {exc}\")\n",
    "\n",
    "    else:\n",
    "        if message := check(output, expected_output):\n",
    "            print(f\"Wrong Answer. Have: '{output}'. Want: '{expected_output}'.\")\n",
    "\n",
    "        else:\n",
    "            print(\"Correct!\")"
   ]
  }
 ],
 "metadata": {
  "kernelspec": {
   "display_name": "PennyLane",
   "language": "python",
   "name": "pennylane"
  },
  "language_info": {
   "codemirror_mode": {
    "name": "ipython",
    "version": 3
   },
   "file_extension": ".py",
   "mimetype": "text/x-python",
   "name": "python",
   "nbconvert_exporter": "python",
   "pygments_lexer": "ipython3",
   "version": "3.9.13"
  }
 },
 "nbformat": 4,
 "nbformat_minor": 5
}
