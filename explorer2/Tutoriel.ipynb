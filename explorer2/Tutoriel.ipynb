{
 "cells": [
  {
   "cell_type": "markdown",
   "id": "0d5a5b24-5303-4afb-a565-f2472a34b4ee",
   "metadata": {},
   "source": [
    "# PennyLane Code Camp: Tutorial challenge\n"
   ]
  },
  {
   "cell_type": "markdown",
   "id": "c2cc2439-4f69-48d9-bba4-cae572a60c18",
   "metadata": {},
   "source": [
    "Welcome to the PennyLane Code Camp! By completing this tutorial problem, you will gain confidence with interacting with this interface for submitting solutions to the challenge problems.\n",
    "\n",
    "The code block below intentionally contains editable sections as well as non-editable sections to ensure that vital pieces of the entire code are not modified (they are essential to evaluating your solution). Within the editable sections, you must write your solution to the given problem. When you're ready to submit your solution, you can do so by clicking the \"Submit\" button at the bottom-right of this page. Your solution will run against the public inputs and outputs given by test_cases as well as `test cases` that are private (not visible to you).\n",
    "\n",
    "When you submit your solution, its status will automatically pop-up on the screen. To see your submission history, you can click the Submissions tab near the top of this page. There, all of your submissions to our grader service will be displayed.\n",
    "\n",
    "What should you do if your submission isn't passing? It would be nice to be able to edit the entire code block, not just what's editable here. To do this, you have a couple of options:\n",
    "\n",
    "1. At the bottom of the page, if you click the button that says \"Open Notebook\", this will open a notebook interface on Xanadu Cloud that functions exactly the same as a standard Jupyter Notebook.\n",
    "\n",
    "2. You can also use the \"Copy all\" button to copy the challenge code to your clipboard, paste it into your favourite IDE (e.g., VSCode, Sublime, VIM, etc.), and run the challenge on your own device.\n",
    "\n",
    "In either of these cases, modify the code to your heart's content, noting that you can only paste code back into the editor here in the designated editable area.\n",
    "\n",
    "To get you familiar with how this process works, try completing the function below and submitting your answer.\n",
    "\n",
    "Good luck and have fun with all of the coding challenges!"
   ]
  },
  {
   "cell_type": "code",
   "execution_count": 1,
   "id": "9be6da1b-9cf7-4ad6-96c8-1e062f003a7e",
   "metadata": {},
   "outputs": [],
   "source": [
    "import functools\n",
    "import json\n",
    "import math\n",
    "import pandas as pd\n",
    "import pennylane as qml\n",
    "import pennylane.numpy as np\n",
    "import scipy"
   ]
  },
  {
   "cell_type": "code",
   "execution_count": 2,
   "id": "46be6ba7-c4c7-4c23-a7c5-d2bff0e6c011",
   "metadata": {},
   "outputs": [],
   "source": [
    "# Welcome to PennyLane Code Camp!"
   ]
  },
  {
   "cell_type": "code",
   "execution_count": 3,
   "id": "e63891ff-2475-40ac-afc4-28a65e3746e8",
   "metadata": {},
   "outputs": [],
   "source": [
    "def add_numbers(x, y):\n",
    "    \"\"\"This function adds two numbers together.\n",
    "\n",
    "    Args:\n",
    "        x (float): A number.\n",
    "        y (float): A number.\n",
    "\n",
    "    Returns:\n",
    "        (float): The result of adding x and y.\n",
    "    \"\"\"\n",
    "    #when you keep getting errors hhh it's nice to try something easy that 100% will work \n",
    "    return x+y"
   ]
  },
  {
   "cell_type": "code",
   "execution_count": 4,
   "id": "229a2089-d20f-4ecc-b598-109710888813",
   "metadata": {},
   "outputs": [],
   "source": [
    "# These functions are responsible for testing the solution.\n",
    "\n",
    "def run(test_case_input: str) -> str:\n",
    "    x, y = json.loads(test_case_input)\n",
    "    result = add_numbers(x, y)\n",
    "    return str(result)\n",
    "\n",
    "def check(solution_output: str, expected_output: str) -> None:\n",
    "    solution_output = json.loads(solution_output)\n",
    "    expected_output = json.loads(expected_output)\n",
    "    assert np.allclose(\n",
    "        solution_output, expected_output, rtol=1e-4\n",
    "    ), \"Your addition function isn't quite right!\""
   ]
  },
  {
   "cell_type": "code",
   "execution_count": 5,
   "id": "5df67a86-05e0-4e6f-b823-613ecc843843",
   "metadata": {},
   "outputs": [],
   "source": [
    "test_cases = [['[0.2, -0.2]', '0.0']]"
   ]
  },
  {
   "cell_type": "code",
   "execution_count": 6,
   "id": "025843d7-6789-426a-8e16-754934bfd5cb",
   "metadata": {},
   "outputs": [
    {
     "name": "stdout",
     "output_type": "stream",
     "text": [
      "Running test case 0 with input '[0.2, -0.2]'...\n",
      "Correct!\n"
     ]
    }
   ],
   "source": [
    "for i, (input_, expected_output) in enumerate(test_cases):\n",
    "    print(f\"Running test case {i} with input '{input_}'...\")\n",
    "\n",
    "    try:\n",
    "        output = run(input_)\n",
    "\n",
    "    except Exception as exc:\n",
    "        print(f\"Runtime Error. {exc}\")\n",
    "\n",
    "    else:\n",
    "        if message := check(output, expected_output):\n",
    "            print(f\"Wrong Answer. Have: '{output}'. Want: '{expected_output}'.\")\n",
    "\n",
    "        else:\n",
    "            print(\"Correct!\")"
   ]
  }
 ],
 "metadata": {
  "kernelspec": {
   "display_name": "PennyLane",
   "language": "python",
   "name": "pennylane"
  },
  "language_info": {
   "codemirror_mode": {
    "name": "ipython",
    "version": 3
   },
   "file_extension": ".py",
   "mimetype": "text/x-python",
   "name": "python",
   "nbconvert_exporter": "python",
   "pygments_lexer": "ipython3",
   "version": "3.9.13"
  }
 },
 "nbformat": 4,
 "nbformat_minor": 5
}
