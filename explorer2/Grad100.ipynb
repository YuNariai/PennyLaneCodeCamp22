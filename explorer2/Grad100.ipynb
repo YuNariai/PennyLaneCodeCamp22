{
 "cells": [
  {
   "cell_type": "markdown",
   "id": "0b2817b9-432f-44e3-808d-b114461b2f61",
   "metadata": {},
   "source": [
    "# Gradients: The parameter-shift rule (100 Points)"
   ]
  },
  {
   "cell_type": "markdown",
   "id": "ad7ca666-e30d-41f8-b6da-e33e556f35ae",
   "metadata": {},
   "source": [
    "There are many ways of differentiating quantum circuits. One such way that is also hardware-compatible (i.e., it can be computed using a real quantum computer) is the parameter-shift rule. Here, we'll explore using the parameter-shift rule in the simplest case: for differentiating the Pauli rotation gates.\n",
    "\n",
    "Consider a circuit given by a unitary $U(\\vec{\\theta})$, where  are real differentiable parameters, whose output is an expectation value with respect to an observable $A$ :\n",
    "\n",
    "$f(\\vec{\\theta})=\\langle 0 | U^{+}(\\vec{\\theta})AU(\\vec{\\theta})|0 \\rangle$\n",
    "\n",
    "If the parameterized gates in $U(\\vec{\\theta})$ were only composed of Pauli rotation gates ($RX$, $RY$, and $RZ$ ), then differentiating $f(\\vec{\\theta})$ with respect to one of the parameters can be shown to simplify to\n",
    "\n",
    "$\\frac{\\partial }{\\partial \\theta_{i}} f(\\vec{\\theta})=\\frac{f(\\theta _{1}, ..., \\theta _{i}+s, ..., \\theta _{n})-f(\\theta _{1}, ..., \\theta _{i}-s, ..., \\theta _{n})}{2 sin(s)}$\n",
    "\n",
    "where $s$ is a finite-valued shift. Although this looks eerily similar to differentiation via finite-differences, $s$ need not be infinitesimally small! In this problem, you will implement the parameter-shift rule for the Pauli rotation gates yourself.\n",
    "\n"
   ]
  },
  {
   "cell_type": "markdown",
   "id": "57bc20aa-41af-4a1a-8d1d-4deeab3bca6d",
   "metadata": {
    "tags": []
   },
   "source": [
    "### Challenge code\n",
    "\n",
    "In the provided code, you are given a couple of functions:\n",
    "\n",
    "- `circuit`: This describes the function $f(\\vec{\\theta})$.\n",
    "- `my_parameter_shift_grad`: This is where you will implement calculating $\\frac{\\partial }{\\partial \\theta_{i}} f(\\vec{\\theta})$ for every $ \\theta_{i}  \\in \\vec{\\theta}$. It will return the gradient, which is a vector containing every partial derivative. You must complete this function.\n",
    "\n",
    "#### Input\n",
    "As input to this problem, you are given:\n",
    "\n",
    "- `params (list(float))`: a list corresponding to $\\vec{\\theta}$\n",
    "- `shift (float)`: the shift amount, corresponding to $s$.\n",
    "\n",
    "#### Output\n",
    "\n",
    "This code will output the gradient `(list(float))` of the `circuit`.\n",
    "\n",
    "If your solution matches the correct one within the given tolerance specified in `check` (in this case it's a `1e-4` relative error tolerance), the output will be `\"Correct!\"`. Otherwise, you will receive a `\"Wrong answer\"` prompt.\n",
    "\n",
    "Good luck!"
   ]
  },
  {
   "cell_type": "code",
   "execution_count": 1,
   "id": "efb3d7a9-f1e4-4447-b230-39ac432aad9b",
   "metadata": {},
   "outputs": [],
   "source": [
    "import functools\n",
    "import json\n",
    "import math\n",
    "import pandas as pd\n",
    "import pennylane as qml\n",
    "import pennylane.numpy as np\n",
    "import scipy"
   ]
  },
  {
   "cell_type": "code",
   "execution_count": 2,
   "id": "00d0dc2d-ed5c-416b-916e-abda58983678",
   "metadata": {},
   "outputs": [],
   "source": [
    "dev = qml.device(\"default.qubit\", wires=2)\n",
    "\n",
    "@qml.qnode(dev)\n",
    "def circuit(params):\n",
    "    \"\"\"The quantum circuit that you will differentiate!\n",
    "\n",
    "    Args:\n",
    "        params (list(float)): The parameters for gates in the circuit\n",
    "\n",
    "    Returns:\n",
    "        (numpy.array): An expectation value.\n",
    "    \"\"\"\n",
    "    qml.RY(params[0], 0)\n",
    "    qml.RX(params[1], 1)\n",
    "    return qml.expval(qml.PauliZ(0) + qml.PauliZ(1))"
   ]
  },
  {
   "cell_type": "code",
   "execution_count": 3,
   "id": "2a915788-688c-4e05-a19d-2122235d3787",
   "metadata": {},
   "outputs": [],
   "source": [
    "dev = qml.device(\"default.qubit\", wires=2)\n",
    "\n",
    "def my_parameter_shift_grad(params, shift):\n",
    "    \"\"\"Your homemade parameter-shift rule function.\n",
    "    \n",
    "    NOTE: you cannot use qml.grad within this function\n",
    "\n",
    "    Args:\n",
    "        params (list(float)): The parameters for gates in the circuit\n",
    "\n",
    "    Returns:\n",
    "        gradient (numpy.array): The gradient of the circuit with respect to the given parameters.\n",
    "    \"\"\"\n",
    "    gradient = np.zeros_like(params)\n",
    "\n",
    "    for i in range(len(params)):\n",
    "        # Put your code here #\n",
    "        for i in range(len(params)):\n",
    "            shifted_params1 = np.copy(params)\n",
    "            shifted_params1[i] += shift\n",
    "            shifted_params2 = np.copy(params)\n",
    "            shifted_params2[i] -= shift\n",
    "            gradient[i] = (circuit(shifted_params1)-circuit(shifted_params2))/(2*math.sin(shift))\n",
    "    return np.round_(gradient, decimals=5).tolist()"
   ]
  },
  {
   "cell_type": "code",
   "execution_count": 4,
   "id": "0ef0737b-22c2-4eea-a46d-9cb39106e220",
   "metadata": {},
   "outputs": [],
   "source": [
    "# These functions are responsible for testing the solution.\n",
    "\n",
    "def run(test_case_input: str) -> str:\n",
    "    params, shift = json.loads(test_case_input)\n",
    "    gradient = my_parameter_shift_grad(params, shift)\n",
    "    return str(gradient)\n",
    "\n",
    "def check(solution_output: str, expected_output: str) -> None:\n",
    "    solution_output = json.loads(solution_output)\n",
    "    expected_output = json.loads(expected_output)\n",
    "    assert np.allclose(\n",
    "        solution_output, expected_output, rtol=1e-4\n",
    "    ), \"Your gradient isn't quite right!\""
   ]
  },
  {
   "cell_type": "code",
   "execution_count": 5,
   "id": "facc3ad4-359a-4ccf-ab79-36503b578383",
   "metadata": {},
   "outputs": [],
   "source": [
    "test_cases = [['[[0.75, 1.0], 1.23]', '[-0.68164, -0.84147]']]"
   ]
  },
  {
   "cell_type": "code",
   "execution_count": 6,
   "id": "f5ec9294-59bd-4f27-a8be-b7e960100e06",
   "metadata": {},
   "outputs": [
    {
     "name": "stdout",
     "output_type": "stream",
     "text": [
      "Running test case 0 with input '[[0.75, 1.0], 1.23]'...\n",
      "Correct!\n"
     ]
    }
   ],
   "source": [
    "for i, (input_, expected_output) in enumerate(test_cases):\n",
    "    print(f\"Running test case {i} with input '{input_}'...\")\n",
    "\n",
    "    try:\n",
    "        output = run(input_)\n",
    "\n",
    "    except Exception as exc:\n",
    "        print(f\"Runtime Error. {exc}\")\n",
    "\n",
    "    else:\n",
    "        if message := check(output, expected_output):\n",
    "            print(f\"Wrong Answer. Have: '{output}'. Want: '{expected_output}'.\")\n",
    "\n",
    "        else:\n",
    "            print(\"Correct!\")"
   ]
  }
 ],
 "metadata": {
  "kernelspec": {
   "display_name": "PennyLane",
   "language": "python",
   "name": "pennylane"
  },
  "language_info": {
   "codemirror_mode": {
    "name": "ipython",
    "version": 3
   },
   "file_extension": ".py",
   "mimetype": "text/x-python",
   "name": "python",
   "nbconvert_exporter": "python",
   "pygments_lexer": "ipython3",
   "version": "3.9.13"
  }
 },
 "nbformat": 4,
 "nbformat_minor": 5
}
