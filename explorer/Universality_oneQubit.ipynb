{
 "cells": [
  {
   "cell_type": "markdown",
   "id": "b3db1ef0-4f3a-45ac-8cf8-bf2890ca8026",
   "metadata": {},
   "source": [
    "***Universality: Working with one qubit\n",
    "100 points***"
   ]
  },
  {
   "cell_type": "markdown",
   "id": "fcc692c6-f275-4fcf-858c-d3bd28643f64",
   "metadata": {},
   "source": [
    "![title](Univ_des1.png)"
   ]
  },
  {
   "cell_type": "markdown",
   "id": "2fd254b5-4b74-4f47-a8e0-64b3fe663064",
   "metadata": {},
   "source": [
    "**Challenge code**\n",
    "\n",
    "You must complete the get_matrix function below in which you will return the matrix associated with those parameters. Once this is done, a small script will be given to optimize the algorithm looking for the best parameters. In order to do this you must also define the error function that determines how well you are approximating your matrix to the target operator."
   ]
  },
  {
   "cell_type": "markdown",
   "id": "ceac3b00-c550-47ef-a159-b087d0654ced",
   "metadata": {},
   "source": [
    "***input***\n",
    "\n",
    "As input to this problem, you are given a 2 x 2 complex matrix that you will try to approximate."
   ]
  },
  {
   "cell_type": "markdown",
   "id": "4f71aa42-aeac-4700-8151-b6cd4c878a16",
   "metadata": {},
   "source": [
    "***output***\n",
    "\n",
    "This code will calculate a list(float) containing the four parameters (, , , and ) using the train_parameters function. Then, the code will output the associated matrix generated from get_matrix.\n",
    "\n",
    "If your solution matches the correct one within the given tolerance specified in check (in this case it's a 0.2 absolute error tolerance), the output will be \"Correct!\". Otherwise, you will receive a \"Wrong answer\" prompt.\n",
    "\n",
    "Good luck!"
   ]
  },
  {
   "cell_type": "markdown",
   "id": "e99d5867-72d7-4572-9c96-e69cb1479632",
   "metadata": {},
   "source": [
    "***Code***"
   ]
  },
  {
   "cell_type": "code",
   "execution_count": 5,
   "id": "a7e0312e-f12a-4a01-9c67-1b411d9e71ba",
   "metadata": {},
   "outputs": [],
   "source": [
    "import functools\n",
    "import json\n",
    "import math\n",
    "import pandas as pd\n",
    "import pennylane as qml\n",
    "import pennylane.numpy as np\n",
    "import scipy"
   ]
  },
  {
   "cell_type": "code",
   "execution_count": 6,
   "id": "ab05c8b0-8b2c-4d4e-a9d5-f5fafe455208",
   "metadata": {},
   "outputs": [],
   "source": [
    "np.random.seed(1967)"
   ]
  },
  {
   "cell_type": "code",
   "execution_count": 7,
   "id": "bf353ff5-ffd8-4e3b-9dfc-b0a3fd465c9e",
   "metadata": {},
   "outputs": [],
   "source": [
    "def get_matrix(params):\n",
    "    \"\"\"\n",
    "    Args:\n",
    "        - params (array): The four parameters of the model.\n",
    "    Returns:\n",
    "        - (matrix): The associated matrix to these parameters.\n",
    "    \"\"\"\n",
    "\n",
    "    alpha, beta, gamma, phi = params\n",
    "\n",
    "    # Put your code here #\n",
    "    op = qml.prod(qml.RZ(gamma, wires=0), qml.RX(beta, wires=0), qml.RZ(alpha, wires=0))\n",
    "    op = qml.s_prod(np.exp(phi*1j), op)\n",
    "    \n",
    "    return qml.matrix(op)\n",
    "def error(U, params):\n",
    "    \"\"\"\n",
    "    This function determines the similarity between your generated matrix and the target unitary.\n",
    "\n",
    "    Args:\n",
    "        - U (matrix): Goal matrix that we want to approach.\n",
    "        - params (array): The four parameters of the model.\n",
    "\n",
    "    Returns:\n",
    "        - (float): Error associated with the quality of the solution.\n",
    "    \"\"\"\n",
    "\n",
    "    matrix = get_matrix(params)\n",
    "\n",
    "    # Put your code here #\n",
    "    errors = np.sum((np.abs(U-matrix))**2)\n",
    "    return errors"
   ]
  },
  {
   "cell_type": "code",
   "execution_count": 8,
   "id": "955461cf-aef0-438d-ae28-19130f67fdbf",
   "metadata": {},
   "outputs": [],
   "source": [
    "def train_parameters(U):\n",
    "\n",
    "    epochs = 1000\n",
    "    lr = 0.01\n",
    "\n",
    "    grad = qml.grad(error, argnum=1)\n",
    "    params = np.random.rand(4) * np.pi\n",
    "\n",
    "    for epoch in range(epochs):\n",
    "        params -= lr * grad(U, params)\n",
    "\n",
    "    return params"
   ]
  },
  {
   "cell_type": "code",
   "execution_count": 9,
   "id": "6c9aaea8-d1ae-49f4-9932-3ba8268f983e",
   "metadata": {},
   "outputs": [],
   "source": [
    "# These functions are responsible for testing the solution.\n",
    "\n",
    "def run(test_case_input: str) -> str:\n",
    "    matrix = json.loads(test_case_input)\n",
    "    params = [float(p) for p in train_parameters(matrix)]\n",
    "    return json.dumps(params)\n",
    "\n",
    "def check(solution_output: str, expected_output: str) -> None:\n",
    "    matrix1 = get_matrix(json.loads(solution_output))\n",
    "    matrix2 = json.loads(expected_output)\n",
    "    assert not np.allclose(get_matrix(np.random.rand(4)), get_matrix(np.random.rand(4)))\n",
    "    assert np.allclose(matrix1, matrix2, atol=0.2)"
   ]
  },
  {
   "cell_type": "code",
   "execution_count": 10,
   "id": "2ae64199-9def-4ded-8a27-357489556ca4",
   "metadata": {},
   "outputs": [],
   "source": [
    "test_cases = [['[[ 0.70710678,  0.70710678], [ 0.70710678, -0.70710678]]', '[[ 0.70710678,  0.70710678], [ 0.70710678, -0.70710678]]'], ['[[ 1,  0], [ 0, -1]]', '[[ 1,  0], [ 0, -1]]']]"
   ]
  },
  {
   "cell_type": "code",
   "execution_count": 11,
   "id": "4b83e867-3ed4-41fb-a985-48922ba5c2ff",
   "metadata": {},
   "outputs": [
    {
     "name": "stdout",
     "output_type": "stream",
     "text": [
      "Running test case 0 with input '[[ 0.70710678,  0.70710678], [ 0.70710678, -0.70710678]]'...\n",
      "Correct!\n",
      "Running test case 1 with input '[[ 1,  0], [ 0, -1]]'...\n",
      "Correct!\n"
     ]
    }
   ],
   "source": [
    "for i, (input_, expected_output) in enumerate(test_cases):\n",
    "    print(f\"Running test case {i} with input '{input_}'...\")\n",
    "\n",
    "    try:\n",
    "        output = run(input_)\n",
    "\n",
    "    except Exception as exc:\n",
    "        print(f\"Runtime Error. {exc}\")\n",
    "\n",
    "    else:\n",
    "        if message := check(output, expected_output):\n",
    "            print(f\"Wrong Answer. Have: '{output}'. Want: '{expected_output}'.\")\n",
    "\n",
    "        else:\n",
    "            print(\"Correct!\")"
   ]
  },
  {
   "cell_type": "code",
   "execution_count": null,
   "id": "ea4591c5-56f4-475d-b868-6fe6ea4a92be",
   "metadata": {},
   "outputs": [],
   "source": []
  }
 ],
 "metadata": {
  "kernelspec": {
   "display_name": "PennyLane",
   "language": "python",
   "name": "pennylane"
  },
  "language_info": {
   "codemirror_mode": {
    "name": "ipython",
    "version": 3
   },
   "file_extension": ".py",
   "mimetype": "text/x-python",
   "name": "python",
   "nbconvert_exporter": "python",
   "pygments_lexer": "ipython3",
   "version": "3.9.13"
  }
 },
 "nbformat": 4,
 "nbformat_minor": 5
}
