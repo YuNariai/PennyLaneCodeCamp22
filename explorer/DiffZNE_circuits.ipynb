{
 "cells": [
  {
   "cell_type": "markdown",
   "id": "d8a89e84-a65a-4455-8c7e-252bfd245584",
   "metadata": {},
   "source": [
    "***Differentiable ZNE: Noisy circuits\n",
    "100 points***"
   ]
  },
  {
   "cell_type": "markdown",
   "id": "f1a47857-f283-4a91-98f3-fc4f8829e49b",
   "metadata": {},
   "source": [
    "Whenever we simulate quantum circuits, we can do so under the most ideal circumstances, i.e. without needing to worry about noise. In practice, implementing, say, a Pauli Z gate on today's hardware isn't as easy as writing qml.PauliZ; what ends up actually being implemented is an operation that's close to qml.PauliZ because, in some way, real-world noise is present.\n",
    "\n",
    "There are many ways to combat noise, including a technique called zero-noise extrapolation (ZNE). We will work more with ZNE later! But, on the path towards fault-tolerant quantum computing, we must inevitably understand noise in order to combat it.\n",
    "\n",
    "PennyLane offers the ability to simulate different types of noise that are present in quantum devices. One such type of noise is called a bitflip error. A bitflip error, occuring with a probability p on a given single qubit, is an error resulting in the state of a qubit being accidentally flipped. Check out this demo (https://pennylane.ai/qml/demos/tutorial_noisy_circuits.html#noisy-operations) to learn more about modelling noise in PennyLane!\n",
    "\n",
    "In this challenge, you'll implement a two-qubit circuit that contains bitflip errors on each of the qubits to see how the resulting quantum state drifts from that of the noise-less/error-free circuit. To do so, the fidelity (https://docs.pennylane.ai/en/stable/code/api/pennylane.math.fidelity.html?highlight=fidelity) between the respective states for various bitflip probabilities p will be calculated."
   ]
  },
  {
   "cell_type": "markdown",
   "id": "c89d99d5-dd95-4b3a-be12-118f9bd58b83",
   "metadata": {},
   "source": [
    "***Challeng Code***"
   ]
  },
  {
   "cell_type": "markdown",
   "id": "28dbfeea-fec0-4cb9-b57e-501acf49c4dc",
   "metadata": {},
   "source": [
    "The provided code below contains a few functions:\n",
    "+ circuit: A quantum circuit that contains a Hadamard and CNOT gate."
   ]
  },
  {
   "cell_type": "markdown",
   "id": "c4226f50-e501-4835-8c05-22bcf5fb9698",
   "metadata": {},
   "source": [
    "![title](circuit.png)"
   ]
  },
  {
   "cell_type": "markdown",
   "id": "dc42ebdd-2e82-4a5a-aea6-0e417fda2ed4",
   "metadata": {},
   "source": [
    "+ bitflip_circuit: A quantum circuit that must be exactly like circuit, with the exception of bitflip errors on each qubit. ****You must complete this function.****"
   ]
  },
  {
   "cell_type": "markdown",
   "id": "cc3b74d6-697f-4940-bbaf-356ba6feabb3",
   "metadata": {},
   "source": [
    "![title](noisy_circuit.png)"
   ]
  },
  {
   "cell_type": "markdown",
   "id": "c64ccdc2-d0a6-40ca-95e9-95543c27a3a8",
   "metadata": {},
   "source": [
    "+ fidelities: This function returns the quantum fidelity between the resulting states from the circuits mentioned above for various bitflip probabilities."
   ]
  },
  {
   "cell_type": "markdown",
   "id": "5211ee0d-b64e-40ed-891b-7022fc833a31",
   "metadata": {},
   "source": [
    "***Input***\n",
    "\n",
    "As input to this problem, you are given a list of probabilities  (list(float)) that define bitflip probabilities."
   ]
  },
  {
   "cell_type": "markdown",
   "id": "f89ede00-5eaa-4210-9e1a-19d94047613e",
   "metadata": {},
   "source": [
    "***Output***\n",
    "\n",
    "This code will output the fidelities (list(float)) between the error-free circuit's state and that of the circuits with bitflip errors given by the input probabilities.\n",
    "\n",
    "If your solution matches the correct one within the given tolerance specified in check (in this case it's a 1e-4 relative error tolerance), the output will be \"Correct!\". Otherwise, you will receive a \"Wrong answer\" prompt.\n",
    "\n",
    "Good luck!"
   ]
  },
  {
   "cell_type": "markdown",
   "id": "eef99efe-e445-4d91-bdf3-0b77becc15f7",
   "metadata": {},
   "source": [
    "***Code***"
   ]
  },
  {
   "cell_type": "code",
   "execution_count": 4,
   "id": "6220afdd-0d8b-4035-8f96-8b98001f3272",
   "metadata": {},
   "outputs": [],
   "source": [
    "import functools\n",
    "import json\n",
    "import math\n",
    "import pandas as pd\n",
    "import pennylane as qml\n",
    "import pennylane.numpy as np\n",
    "import scipy"
   ]
  },
  {
   "cell_type": "code",
   "execution_count": 5,
   "id": "94822758-d08b-46c9-9f47-fb0bedb71eb4",
   "metadata": {},
   "outputs": [],
   "source": [
    "dev = qml.device(\"default.mixed\", wires=2)\n",
    "\n",
    "@qml.qnode(dev)\n",
    "def circuit():\n",
    "    \"\"\"An error-less quantum circuit.\n",
    "\n",
    "    Returns:\n",
    "        qml.state():\n",
    "            The quantum state.\n",
    "    \"\"\"\n",
    "    qml.Hadamard(wires=0)\n",
    "    qml.CNOT(wires=[0, 1])\n",
    "    return qml.state()"
   ]
  },
  {
   "cell_type": "code",
   "execution_count": 6,
   "id": "0e049944-cbdb-4eab-9bd1-13fb71aed64e",
   "metadata": {},
   "outputs": [],
   "source": [
    "@qml.qnode(dev)\n",
    "def bitflip_circuit(p):\n",
    "    \"\"\"A quantum circuit that contains two bitflip errors.\n",
    "    It is the same circuit as the one above, but with bitflip errors.\n",
    "\n",
    "    Args:\n",
    "        p (float):\n",
    "            The bitflip probability.\n",
    "\n",
    "    Returns:\n",
    "        qml.state():\n",
    "            The quantum state.\n",
    "    \"\"\"\n",
    "    # Put your code here #\n",
    "    qml.Hadamard(wires=0)\n",
    "    qml.CNOT(wires=[0, 1])\n",
    "    qml.BitFlip(p, wires=0)\n",
    "    qml.BitFlip(p, wires=1)\n",
    "    return qml.state()"
   ]
  },
  {
   "cell_type": "code",
   "execution_count": 7,
   "id": "b964d409-4f2a-4d27-a78f-c36558eb219f",
   "metadata": {},
   "outputs": [],
   "source": [
    "def fidelities(probs):\n",
    "    fids = np.zeros(len(probs))\n",
    "    for i, p in enumerate(probs):\n",
    "        fid = qml.math.fidelity(bitflip_circuit(p), circuit())\n",
    "        fids[i] = fid\n",
    "    return np.round_(fids, decimals=5).tolist()"
   ]
  },
  {
   "cell_type": "code",
   "execution_count": 8,
   "id": "c2402e02-0a3d-439e-a58e-ac48d94b915a",
   "metadata": {},
   "outputs": [],
   "source": [
    "# These functions are responsible for testing the solution.\n",
    "\n",
    "def run(test_case_input: str) -> str:\n",
    "    probs = json.loads(test_case_input)\n",
    "    fids = fidelities(probs)\n",
    "    return str(fids)\n",
    "\n",
    "def check(solution_output: str, expected_output: str) -> None:\n",
    "    solution_output = json.loads(solution_output)\n",
    "    expected_output = json.loads(expected_output)\n",
    "    assert np.allclose(\n",
    "        solution_output, expected_output, rtol=1e-4\n",
    "    ), \"Your circuit isn't quite right!\""
   ]
  },
  {
   "cell_type": "code",
   "execution_count": 9,
   "id": "a9e1b592-439a-4d90-ad71-317fbefbb20f",
   "metadata": {},
   "outputs": [],
   "source": [
    "test_cases = [['[0.05, 0.1, 0.15, 0.2, 0.25]', '[0.905, 0.82, 0.745, 0.68, 0.625]']]"
   ]
  },
  {
   "cell_type": "code",
   "execution_count": 10,
   "id": "a766df19-6962-40d5-b08b-ee6678d563d5",
   "metadata": {},
   "outputs": [
    {
     "name": "stdout",
     "output_type": "stream",
     "text": [
      "Running test case 0 with input '[0.05, 0.1, 0.15, 0.2, 0.25]'...\n",
      "Correct!\n"
     ]
    }
   ],
   "source": [
    "for i, (input_, expected_output) in enumerate(test_cases):\n",
    "    print(f\"Running test case {i} with input '{input_}'...\")\n",
    "\n",
    "    try:\n",
    "        output = run(input_)\n",
    "\n",
    "    except Exception as exc:\n",
    "        print(f\"Runtime Error. {exc}\")\n",
    "\n",
    "    else:\n",
    "        if message := check(output, expected_output):\n",
    "            print(f\"Wrong Answer. Have: '{output}'. Want: '{expected_output}'.\")\n",
    "\n",
    "        else:\n",
    "            print(\"Correct!\")"
   ]
  },
  {
   "cell_type": "code",
   "execution_count": null,
   "id": "3bee74c8-fde2-4a7a-bc20-2aebe5b98ff1",
   "metadata": {},
   "outputs": [],
   "source": []
  }
 ],
 "metadata": {
  "kernelspec": {
   "display_name": "PennyLane",
   "language": "python",
   "name": "pennylane"
  },
  "language_info": {
   "codemirror_mode": {
    "name": "ipython",
    "version": 3
   },
   "file_extension": ".py",
   "mimetype": "text/x-python",
   "name": "python",
   "nbconvert_exporter": "python",
   "pygments_lexer": "ipython3",
   "version": "3.9.13"
  }
 },
 "nbformat": 4,
 "nbformat_minor": 5
}
