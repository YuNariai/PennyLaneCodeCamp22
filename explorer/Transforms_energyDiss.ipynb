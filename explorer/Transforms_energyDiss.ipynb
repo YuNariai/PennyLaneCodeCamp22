{
 "cells": [
  {
   "cell_type": "markdown",
   "id": "8127f56f-6a29-4e98-a2b6-e3163ac67d34",
   "metadata": {},
   "source": [
    "***Quantum transforms and noise: Energy dissipation\n",
    "100 points***"
   ]
  },
  {
   "cell_type": "markdown",
   "id": "b8027854-3505-402a-a0c9-1e135de590d2",
   "metadata": {},
   "source": [
    "When we program quantum devices in PennyLane, we assume that gates work exactly as expected. This assumption is not entirely true. Gates are noisy: our qubit interacts with the quantum state of its surroundings and its state may change! For example, a qubit could dissipate energy into the environment.\n",
    "\n",
    "Let us study a toy model of such a process. We model energy dissipation by gates in a ****one-qubit circuit**** by adding the following interaction with the environment ****after every gate****."
   ]
  },
  {
   "cell_type": "markdown",
   "id": "7fba2bfd-7205-477b-99ac-e367295ef2ea",
   "metadata": {},
   "source": [
    "![title](dqt_circuit2.png)"
   ]
  },
  {
   "cell_type": "markdown",
   "id": "f3d99ad0-d216-4b3e-a9be-89ee6f892183",
   "metadata": {},
   "source": [
    "Given the following one-qubit circuit with rotation parameter $\\alpha$,"
   ]
  },
  {
   "cell_type": "markdown",
   "id": "ef0c6947-e29d-4f8e-96c8-d45dc7961f8e",
   "metadata": {},
   "source": [
    "![title](dqt_circuit1.png)"
   ]
  },
  {
   "cell_type": "markdown",
   "id": "dfd7cb02-55f1-411b-b5f3-7b6c0eba163f",
   "metadata": {},
   "source": [
    "your task is to create and apply the quantum transform noise, which depends on the noise parameter , in order to add energy dissipation after each gate in circuit.\n",
    "\n",
    "Our final objective is to ****find the purity**** P=Tr($\\rho$<sup>2</sup>)   of the final state  of the one-qubit system. The purity is a measure of how noisy our final state is. If it's close to 1, it means that the state was not affected by external noise."
   ]
  },
  {
   "cell_type": "markdown",
   "id": "6a920748-34e2-4a1f-a9ad-69133a2f2ef2",
   "metadata": {},
   "source": [
    "***Challenge code***"
   ]
  },
  {
   "cell_type": "markdown",
   "id": "1be1fa66-7e35-45e1-a0a3-a5155e2a3802",
   "metadata": {},
   "source": [
    "![title](transforms_f1.png)"
   ]
  },
  {
   "cell_type": "markdown",
   "id": "474b1ecd-9947-48ff-bbaa-f99082e76eda",
   "metadata": {},
   "source": [
    "The easiest way to solve this probem is to use qml.transforms.insert to apply your noise transformation to circuit to create the noisy_circuit QNode.\n",
    "\n",
    "Note: Do not use transforms as decorators for this problem. They will yield different results due to how they work on the back-end. Use them within circuits instead.\n",
    "\n",
    "Assume that the preparation of the initial state does not dissipate energy."
   ]
  },
  {
   "cell_type": "markdown",
   "id": "e2239105-bdf2-49f4-8e61-8da15ae482f5",
   "metadata": {},
   "source": [
    "***Input***\n",
    "\n",
    "As input to this problem, you are given:\n",
    "\n",
    "+ angle (float): The angle $\\theta$ parametrizing the initial state\n",
    "+ phase (float): The phase angle $\\phi$ parametrizing the initial state\n",
    "+ circuit_param (float): The rotation angle $\\alpha$  in the RY gate in the circuit we add noise to.\n",
    "+ noise_param (float): The rotation angle in the $\\beta$ in the CRX gate in our model for energy dissipation.\n"
   ]
  },
  {
   "cell_type": "markdown",
   "id": "58acea0d-7204-4a42-a001-5474f2da9665",
   "metadata": {},
   "source": [
    "***Output***\n",
    "\n",
    "This code will output a float corresponding to the purity of the final state of the one-qubit system.\n",
    "\n",
    "If your solution matches the correct one within the given tolerance specified in check (in this case it's an absolute tolerance of 0.01), the output will be \"Correct!\". Otherwise, you will receive a \"Wrong answer\" prompt.\n",
    "\n",
    "Good luck!"
   ]
  },
  {
   "cell_type": "markdown",
   "id": "f5ae062c-0606-4317-b9c1-64a4a4446c5e",
   "metadata": {},
   "source": [
    "***Code***"
   ]
  },
  {
   "cell_type": "code",
   "execution_count": 99,
   "id": "e6c01792-f8ab-4d86-89ac-f9badf93c8a7",
   "metadata": {},
   "outputs": [],
   "source": [
    "import functools\n",
    "import json\n",
    "import math\n",
    "import pandas as pd\n",
    "import pennylane as qml\n",
    "import pennylane.numpy as np\n",
    "import scipy"
   ]
  },
  {
   "cell_type": "code",
   "execution_count": 100,
   "id": "93ebc50c-6f02-4fc7-85a1-7b1a3895c2a9",
   "metadata": {},
   "outputs": [],
   "source": [
    "def circuit(circuit_param):\n",
    "    qml.RY(circuit_param, wires=0)\n",
    "    qml.Hadamard(wires=0)\n",
    "    qml.T(wires=0)"
   ]
  },
  {
   "cell_type": "code",
   "execution_count": 121,
   "id": "e5f1d7e8-f4d5-4f79-a234-776d7771a391",
   "metadata": {},
   "outputs": [],
   "source": [
    "def state_purity(angle, phase, circuit_param, noise_param):\n",
    "\n",
    "    \"\"\"\n",
    "    This function returns the purity of the output state after adding noise\n",
    "    to the given circuit().\n",
    "\n",
    "    Args:\n",
    "        angle (float): The angle theta that parametrizes the initial quantum state\n",
    "        phase (float): The phase phi that parametrizes the initial quantum state\n",
    "        circuit_param (float): The angle that paramterizes the RY rotation in circuit(alpha)\n",
    "        noise_param (float): The angle that paramterizes the CRX gate in the circuit modelling the noise\n",
    "\n",
    "    Returns:\n",
    "        (float): Purity of the state after going through the noisy circuit\n",
    "    \"\"\"\n",
    "\n",
    "    def noise(noise_param, wires):\n",
    "\n",
    "        \"\"\"Implements the circuit that models the noise added after each gate. Do not return anything.\"\"\"\n",
    "        # Put your code here #\n",
    "        qml.CRX(noise_param, wires=[0,1])\n",
    "        qml.CNOT(wires=[1,0])\n",
    "\n",
    "    dev = qml.device(\"default.mixed\", wires=2)\n",
    "\n",
    "    @qml.qnode(dev)\n",
    "    def noisy_circuit(angle, phase, circuit_param, noise_param):\n",
    "\n",
    "        \"\"\"Implements transformed circuit with state preparation at the beginning, and noise inserted\n",
    "        after each gate.\n",
    "\n",
    "        Returns: Whatever is useful for you to calculate the purity!\"\"\"\n",
    "\n",
    "        # Put your code here #\n",
    "        # Don't forget to prepare the initial state\n",
    "        qml.RY(angle, wires=0)\n",
    "        qml.PhaseShift(phase, wires=0)\n",
    "        \n",
    "        # If you use a quantum transform to add noise, use it within this circuit\n",
    "        qml.transforms.insert(noise, noise_param, position=\"all\")(circuit)(circuit_param)\n",
    "        #qml.RY(circuit_param, wires=0)\n",
    "        #qml.Hadamard(wires=0)\n",
    "        #qml.T(wires=0)\n",
    "        \n",
    "        return qml.density_matrix(wires=0)\n",
    "\n",
    "    # Feel free to add here any code or helper functions, if you need them.\n",
    "    density_matrixs = noisy_circuit(angle, phase, circuit_param, noise_param)\n",
    "    \n",
    "    purity = np.trace(qml.math.dot(density_matrixs, density_matrixs))\n",
    "\n",
    "    return  purity # Return the purity in terms of the calculated expectation values."
   ]
  },
  {
   "cell_type": "code",
   "execution_count": 122,
   "id": "76376e6c-eb21-422c-ac97-dd97baa86970",
   "metadata": {},
   "outputs": [],
   "source": [
    "# These functions are responsible for testing the solution.\n",
    "\n",
    "def run(test_case_input: str) -> str:\n",
    "\n",
    "    ins = json.loads(test_case_input)\n",
    "    output = state_purity(*ins)\n",
    "\n",
    "    return str(np.real_if_close(output))\n",
    "\n",
    "def check(solution_output: str, expected_output: str) -> None:\n",
    "    \"\"\"\n",
    "    Compare solution with expected.\n",
    "\n",
    "    Args:\n",
    "            solution_output: The output from an evaluated solution. Will be\n",
    "            the same type as returned.\n",
    "            expected_output: The correct result for the test case.\n",
    "\n",
    "    Raises:\n",
    "            ``AssertionError`` if the solution output is incorrect in any way.\n",
    "    \"\"\"\n",
    "\n",
    "    solution_output = json.loads(solution_output)\n",
    "    expected_output = json.loads(expected_output)\n",
    "    assert np.allclose(\n",
    "        solution_output, expected_output, rtol=1e-2\n",
    "    ), \"Your calculated purity isn't quite right.\""
   ]
  },
  {
   "cell_type": "code",
   "execution_count": 123,
   "id": "a2261309-c892-4c14-a106-c6ffe2489fc1",
   "metadata": {},
   "outputs": [],
   "source": [
    "test_cases = [['[0.1,0.2,0.3,0.4]', '0.9647'], ['[0.5,0.3,0.5,0.7]', '0.928356']]"
   ]
  },
  {
   "cell_type": "code",
   "execution_count": 124,
   "id": "91fdd221-72b6-4a4d-b690-52106e60ceeb",
   "metadata": {},
   "outputs": [
    {
     "name": "stdout",
     "output_type": "stream",
     "text": [
      "Running test case 0 with input '[0.1,0.2,0.3,0.4]'...\n",
      "Correct!\n",
      "Running test case 1 with input '[0.5,0.3,0.5,0.7]'...\n",
      "Correct!\n"
     ]
    }
   ],
   "source": [
    "for i, (input_, expected_output) in enumerate(test_cases):\n",
    "    print(f\"Running test case {i} with input '{input_}'...\")\n",
    "\n",
    "    try:\n",
    "        output = run(input_)\n",
    "\n",
    "    except Exception as exc:\n",
    "        print(f\"Runtime Error. {exc}\")\n",
    "\n",
    "    else:\n",
    "        if message := check(output, expected_output):\n",
    "            print(f\"Wrong Answer. Have: '{output}'. Want: '{expected_output}'.\")\n",
    "\n",
    "        else:\n",
    "            print(\"Correct!\")"
   ]
  },
  {
   "cell_type": "code",
   "execution_count": null,
   "id": "42e3bbd4-6ada-4eb4-916f-8760116d3563",
   "metadata": {},
   "outputs": [],
   "source": []
  }
 ],
 "metadata": {
  "kernelspec": {
   "display_name": "PennyLane",
   "language": "python",
   "name": "pennylane"
  },
  "language_info": {
   "codemirror_mode": {
    "name": "ipython",
    "version": 3
   },
   "file_extension": ".py",
   "mimetype": "text/x-python",
   "name": "python",
   "nbconvert_exporter": "python",
   "pygments_lexer": "ipython3",
   "version": "3.9.13"
  }
 },
 "nbformat": 4,
 "nbformat_minor": 5
}
