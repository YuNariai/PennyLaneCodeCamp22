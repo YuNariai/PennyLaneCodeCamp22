{
 "cells": [
  {
   "cell_type": "markdown",
   "id": "91d89f35-88bf-404e-9017-553e3d56d806",
   "metadata": {},
   "source": [
    "***Fourier spectrum of quantum models: Building a model\n",
    "100 points***"
   ]
  },
  {
   "cell_type": "markdown",
   "id": "86e266b0-81fe-4331-99a5-6aefeaea5a08",
   "metadata": {},
   "source": [
    "In this set of problems, we will learn how to calculate the Fourier spectrum (https://en.wikipedia.org/wiki/Fourier_transform) of quantum circuits that encode classical data. As a first step, let's learn how to encode classical data using quantum circuits!\n",
    "\n",
    "Functions taking classical input data can be evaluated by building quantum circuits and computing the expectation value of Hermitian operators. These circuits depend on additional parameters (other than the data), which means that they, in fact, model a family of functions.\n",
    "\n",
    "In order to encode real-valued data and build a function that models it, we generally build a circuit that has the following structure."
   ]
  },
  {
   "cell_type": "markdown",
   "id": "c22cd933-4e6c-4f3e-81c3-d733ff614728",
   "metadata": {},
   "source": [
    "![title](quantum_model_exp.png)"
   ]
  },
  {
   "cell_type": "markdown",
   "id": "2e7d36da-265b-4018-b6f2-32ba87075bca",
   "metadata": {},
   "source": [
    "The W<sup>(i)</sup> unitaries are known as the trainable circuit blocks, which depend on independent parameters $\\theta$<sup>(i)</sup>. The S(x) are known as the encoding circuit blocks, and depend on the classical input data x, which is a real number."
   ]
  },
  {
   "cell_type": "markdown",
   "id": "1503c763-7cc6-434b-a7cd-f8b74c499f1c",
   "metadata": {},
   "source": [
    "In this challenge, we will work with a three-wire quantum circuit. We choose the  W<sup>(i)</sup> to be the following one-parameter unitary."
   ]
  },
  {
   "cell_type": "markdown",
   "id": "123a8fa3-3f05-49a5-8c2a-329950228b84",
   "metadata": {},
   "source": [
    "![title](train_block_model.png)"
   ]
  },
  {
   "cell_type": "markdown",
   "id": "dc2a13b9-7b32-4e09-9c02-ec09c3e2ce86",
   "metadata": {},
   "source": [
    "Do keep in mind that each of the trainable blocks W<sup>(i)</sup> depends on the independent trainable parameters $\\theta$<sup>(i)</sup>!"
   ]
  },
  {
   "cell_type": "markdown",
   "id": "b90f37ff-9cf3-4637-85cd-365a252a3ed0",
   "metadata": {},
   "source": [
    "We will build two types of model. In the first one, the data is encoded in parallel. In this case, there are only two trainable blocks W<sup>(1)</sup> and  and W<sup>(2)</sup>, given a number of encoding gates n, the encoding block S(x) is given by the following set of n in-parallel X-rotations:"
   ]
  },
  {
   "cell_type": "markdown",
   "id": "82aee4b4-26b0-4fc3-a337-e6b10f94a1e3",
   "metadata": {},
   "source": [
    "![title](encode_parallel.png)"
   ]
  },
  {
   "cell_type": "markdown",
   "id": "9b903c63-159c-4c41-b45d-61bb77c6b6a8",
   "metadata": {},
   "source": [
    "The second type of model encodes the data in series. In this case S(x) is only one X-rotation acting on the first wire. Given the number of encoding gates n, the circuit takes the form:"
   ]
  },
  {
   "cell_type": "markdown",
   "id": "75eaec76-7af4-42f8-a633-386f07eeb8cb",
   "metadata": {},
   "source": [
    "![title](quantum_model_series.png)"
   ]
  },
  {
   "cell_type": "markdown",
   "id": "9c6e960e-690a-42b3-aa4b-489ee58814a0",
   "metadata": {},
   "source": [
    "***Challenge code***\n",
    "\n",
    "You must complete the ****quantum_model**** function to build the in-series or in-parallel quantum circuit described above, as specified by an input string that takes the values \"series\" or \"parallel\". The function must then return the expectation value of the Pauli-Z operator on the first wire."
   ]
  },
  {
   "cell_type": "markdown",
   "id": "95735b98-1c09-4c69-a847-8360687a3ac5",
   "metadata": {},
   "source": [
    "***Input***\n",
    "\n",
    "+ n (int): The number of enconding gates (RX(x)) used in our circuit, as explained above. To account for the parallel case, we assume it's always smaller than or equal to the number of wires.\n",
    "\n",
    "+ train_params (list(float)): A list of length n + 1. In the in-series case, these are the parameters of the trainable blocks (the angles) from left to right. In the parallel case, since there are only two trainable blocks, only the first two elements of this list are used.\n",
    "\n",
    "+ x (float): The input data, and also the rotation parameter in the encoding blocks.\n",
    "\n",
    "+ model_type (str): A string that can take the value \"series\" or \"parallel\", depending on the type of encoding we choose."
   ]
  },
  {
   "cell_type": "markdown",
   "id": "ca9ee71f-ff8b-4938-b1a8-6a79f35ef94e",
   "metadata": {},
   "source": [
    "***Output***\n",
    "\n",
    "This code will output a float corresponding to the expectation value of PauliZ measurements on the first wire of our quantum model.\n",
    "\n",
    "If your solution matches the correct one within the given tolerance specified in check (in this case it's an absolute tolerance of 0.01), the output will be \"Correct!\". Otherwise, you will receive a \"Wrong answer\" prompt.\n",
    "\n",
    "Good luck!"
   ]
  },
  {
   "cell_type": "markdown",
   "id": "b94ec3ea-65f5-45d5-b9c5-f779c3a215d0",
   "metadata": {},
   "source": [
    "***Code***"
   ]
  },
  {
   "cell_type": "code",
   "execution_count": 6,
   "id": "16fd5dd2-ee8f-461e-bf98-72d6f87405b3",
   "metadata": {},
   "outputs": [],
   "source": [
    "import functools\n",
    "import json\n",
    "import math\n",
    "import pandas as pd\n",
    "import pennylane as qml\n",
    "import pennylane.numpy as np\n",
    "import scipy"
   ]
  },
  {
   "cell_type": "code",
   "execution_count": 7,
   "id": "7639ec07-82c5-42d9-a58c-98f9222eb197",
   "metadata": {},
   "outputs": [],
   "source": [
    "def quantum_model(n, train_params, x, model_type):\n",
    "    \"\"\"\n",
    "    Builds an in-series or parallel quantum model according to the specifications in the problem statement, returning\n",
    "    the expectation value on the first wire.\n",
    "\n",
    "    Args: \n",
    "        n (int): The total number of encoding gates. Assumed to be smaller than,\n",
    "                or equal to, the number of wires (3).\n",
    "        train_params (list(float)): A list of length n + 1, which indicates the rotation parameter characterizing\n",
    "                    the trainable circuit. If the circuit is parallel, only the first two parameters are used.\n",
    "        x (float): A real number representing the input data point.\n",
    "        model_type (str): A string that is \"series\" or \"parallel\", depending on the type of model.  \n",
    "\n",
    "    Returns: \n",
    "        (float): The expectation value of PauliZ measurements on the first wire.\n",
    "    \"\"\" \n",
    "    \n",
    "    num_wires=3\n",
    "\n",
    "    dev = qml.device('default.qubit', wires = num_wires)\n",
    "\n",
    "    # Write any helper functions, such as subcircuits you may use later, here.\n",
    "\n",
    "    @qml.qnode(dev)\n",
    "    def circuit(n, train_params, x, model_type):\n",
    "        if model_type == \"parallel\":\n",
    "            # Put your code here #\n",
    "            # Put your code here #\n",
    "            qml.Hadamard(wires=0)\n",
    "            qml.CRX(train_params[0], wires = [0, 1])\n",
    "            qml.Hadamard(wires=1)\n",
    "            qml.CRX(train_params[0], wires = [1, 2])\n",
    "            qml.Hadamard(wires=2)\n",
    "            qml.CRX(train_params[0], wires = [2, 0])\n",
    "            \n",
    "            for j in range(n):\n",
    "                qml.RX(x, wires=j)\n",
    "            \n",
    "            qml.Hadamard(wires=0)\n",
    "            qml.CRX(train_params[1], wires = [0, 1])\n",
    "            qml.Hadamard(wires=1)\n",
    "            qml.CRX(train_params[1], wires = [1, 2])\n",
    "            qml.Hadamard(wires=2)\n",
    "            qml.CRX(train_params[1], wires = [2, 0])\n",
    "            \n",
    "            \n",
    "        elif model_type == \"series\":\n",
    "            # Put your code here #\n",
    "            for i in range(n):\n",
    "                qml.Hadamard(wires=0)\n",
    "                qml.CRX(train_params[i], wires = [0, 1])\n",
    "                qml.Hadamard(wires=1)\n",
    "                qml.CRX(train_params[i], wires = [1, 2])\n",
    "                qml.Hadamard(wires=2)\n",
    "                qml.CRX(train_params[i], wires = [2, 0])\n",
    "\n",
    "                qml.RX(x, wires=0)\n",
    "            \n",
    "            qml.Hadamard(wires=0)\n",
    "            qml.CRX(train_params[n], wires = [0, 1])\n",
    "            qml.Hadamard(wires=1)\n",
    "            qml.CRX(train_params[n], wires = [1, 2])\n",
    "            qml.Hadamard(wires=2)\n",
    "            qml.CRX(train_params[n], wires = [2, 0])\n",
    "            \n",
    "        \n",
    "        # Return an expectation value\n",
    "        return qml.expval(qml.PauliZ(0))\n",
    "    # Finally, return a float, not a numpy tensor. You can do this using the .numpy() method!\n",
    "    return circuit(n, train_params, x, model_type).numpy()"
   ]
  },
  {
   "cell_type": "code",
   "execution_count": 8,
   "id": "ced476cd-641d-4124-bf05-a76795fc2c9b",
   "metadata": {},
   "outputs": [],
   "source": [
    "# These functions are responsible for testing the solution.\n",
    "\n",
    "def run(test_case_input: str) -> str:\n",
    "\n",
    "    ins = json.loads(test_case_input)\n",
    "    output = quantum_model(*ins)\n",
    "\n",
    "    return str(output)\n",
    "\n",
    "def check(solution_output: str, expected_output: str) -> None:\n",
    "    \"\"\"\n",
    "    Compare solution with expected.\n",
    "\n",
    "    Args:\n",
    "            solution_output: The output from an evaluated solution. Will be\n",
    "            the same type as returned.\n",
    "            expected_output: The correct result for the test case.\n",
    "\n",
    "    Raises: \n",
    "            ``AssertionError`` if the solution output is incorrect in any way.\n",
    "    \"\"\"\n",
    "\n",
    "    solution_output = json.loads(solution_output)\n",
    "    expected_output = json.loads(expected_output)\n",
    "    assert np.allclose(\n",
    "        solution_output, expected_output, rtol=1e-2\n",
    "    ), \"Your circuit doesn't look quite right.\""
   ]
  },
  {
   "cell_type": "code",
   "execution_count": 9,
   "id": "39abd38b-f4cd-49c2-a6a1-9180dd7a6247",
   "metadata": {},
   "outputs": [],
   "source": [
    "test_cases = [['[2,[0.4,0.8,1.0],1.2,\"parallel\"]', '0.977856732420062'], ['[3,[0.6,0.7,0.8,1.2],1.3,\"series\"]', '0.37048658401504975']]"
   ]
  },
  {
   "cell_type": "code",
   "execution_count": 10,
   "id": "58a71c62-96b3-431c-8720-1bfceb2d6988",
   "metadata": {},
   "outputs": [
    {
     "name": "stdout",
     "output_type": "stream",
     "text": [
      "Running test case 0 with input '[2,[0.4,0.8,1.0],1.2,\"parallel\"]'...\n",
      "Correct!\n",
      "Running test case 1 with input '[3,[0.6,0.7,0.8,1.2],1.3,\"series\"]'...\n",
      "Correct!\n"
     ]
    }
   ],
   "source": [
    "for i, (input_, expected_output) in enumerate(test_cases):\n",
    "    print(f\"Running test case {i} with input '{input_}'...\")\n",
    "\n",
    "    try:\n",
    "        output = run(input_)\n",
    "\n",
    "    except Exception as exc:\n",
    "        print(f\"Runtime Error. {exc}\")\n",
    "\n",
    "    else:\n",
    "        if message := check(output, expected_output):\n",
    "            print(f\"Wrong Answer. Have: '{output}'. Want: '{expected_output}'.\")\n",
    "\n",
    "        else:\n",
    "            print(\"Correct!\")"
   ]
  },
  {
   "cell_type": "code",
   "execution_count": null,
   "id": "bd045a1e-35c8-4336-ba95-23400bc5e33c",
   "metadata": {},
   "outputs": [],
   "source": []
  }
 ],
 "metadata": {
  "kernelspec": {
   "display_name": "PennyLane",
   "language": "python",
   "name": "pennylane"
  },
  "language_info": {
   "codemirror_mode": {
    "name": "ipython",
    "version": 3
   },
   "file_extension": ".py",
   "mimetype": "text/x-python",
   "name": "python",
   "nbconvert_exporter": "python",
   "pygments_lexer": "ipython3",
   "version": "3.9.13"
  }
 },
 "nbformat": 4,
 "nbformat_minor": 5
}
