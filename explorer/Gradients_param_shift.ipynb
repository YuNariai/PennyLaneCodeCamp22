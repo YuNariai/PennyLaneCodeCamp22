{
 "cells": [
  {
   "cell_type": "markdown",
   "id": "714d68d0-1fcb-4687-9f0d-f2248910e58f",
   "metadata": {},
   "source": [
    "***Gradients: The parameter-shift rule\n",
    "100 points***"
   ]
  },
  {
   "cell_type": "markdown",
   "id": "1e6073ca-d8e7-4a14-82f3-18356b6126fd",
   "metadata": {},
   "source": [
    "There are many ways of differentiating quantum circuits. One such way that is also hardware-compatible (i.e., it can be computed using a real quantum computer) is the parameter-shift rule. Here, we'll explore using the parameter-shift rule in the simplest case: for differentiating the Pauli rotation gates."
   ]
  },
  {
   "cell_type": "markdown",
   "id": "10090159-f961-443c-b99f-5aaa78e7bfd4",
   "metadata": {},
   "source": [
    "![title](gradients_formula1.png)"
   ]
  },
  {
   "cell_type": "markdown",
   "id": "0bc6ad58-2c38-4231-a51f-67358ef395bc",
   "metadata": {},
   "source": [
    "***Challenge code***\n",
    "\n",
    "In the provided code, you are given a couple of functions:"
   ]
  },
  {
   "cell_type": "markdown",
   "id": "3fee496b-b416-472c-a637-5d162cd6a6c1",
   "metadata": {},
   "source": [
    "![title](gradients_formula2.png)"
   ]
  },
  {
   "cell_type": "markdown",
   "id": "1fe511d1-48fe-4679-9277-43452da991aa",
   "metadata": {},
   "source": [
    "***Input***\n",
    "\n",
    "As input to this problem, you are given:\n",
    "\n",
    "+ params (list(float)): a list corresponding to $\\overrightarrow{\\theta}$\n",
    "* shift (float): the shift amount, corresponding to s."
   ]
  },
  {
   "cell_type": "markdown",
   "id": "85c61dee-a59e-495d-a134-ee441ce8e24b",
   "metadata": {},
   "source": [
    "***Output***\n",
    "\n",
    "This code will output the gradient (list(float)) of the circuit.\n",
    "\n",
    "If your solution matches the correct one within the given tolerance specified in check (in this case it's a 1e-4 relative error tolerance), the output will be \"Correct!\". Otherwise, you will receive a \"Wrong answer\" prompt.\n",
    "\n",
    "Good luck!\n"
   ]
  },
  {
   "cell_type": "markdown",
   "id": "384bf40d-196d-48a4-a123-403303a5f0f8",
   "metadata": {},
   "source": [
    "***Code***"
   ]
  },
  {
   "cell_type": "code",
   "execution_count": 8,
   "id": "0368463a-2c92-48c2-a3b7-04d01c9d451c",
   "metadata": {},
   "outputs": [],
   "source": [
    "import functools\n",
    "import json\n",
    "import math\n",
    "import pandas as pd\n",
    "import pennylane as qml\n",
    "import pennylane.numpy as np\n",
    "import scipy"
   ]
  },
  {
   "cell_type": "code",
   "execution_count": 9,
   "id": "8bbbf425-3a68-46a4-b793-2e2c21ad585f",
   "metadata": {},
   "outputs": [],
   "source": [
    "dev = qml.device(\"default.qubit\", wires=2)\n",
    "\n",
    "@qml.qnode(dev)\n",
    "def circuit(params):\n",
    "    \"\"\"The quantum circuit that you will differentiate!\n",
    "\n",
    "    Args:\n",
    "        params (list(float)): The parameters for gates in the circuit\n",
    "\n",
    "    Returns:\n",
    "        (numpy.array): An expectation value.\n",
    "    \"\"\"\n",
    "    qml.RY(params[0], 0)\n",
    "    qml.RX(params[1], 1)\n",
    "    return qml.expval(qml.PauliZ(0) + qml.PauliZ(1))"
   ]
  },
  {
   "cell_type": "code",
   "execution_count": 10,
   "id": "63c78e0f-96a6-4aea-95c8-d7f8896e896e",
   "metadata": {},
   "outputs": [],
   "source": [
    "def my_parameter_shift_grad(params, shift):\n",
    "    \"\"\"Your homemade parameter-shift rule function.\n",
    "    \n",
    "    NOTE: you cannot use qml.grad within this function\n",
    "\n",
    "    Args:\n",
    "        params (list(float)): The parameters for gates in the circuit\n",
    "\n",
    "    Returns:\n",
    "        gradient (numpy.array): The gradient of the circuit with respect to the given parameters.\n",
    "    \"\"\"\n",
    "    gradient = np.zeros_like(params)\n",
    "\n",
    "    for i in range(len(params)):\n",
    "        # Put your code here #\n",
    "        for i in range(len(params)):\n",
    "            shifted_params1 = np.copy(params)\n",
    "            shifted_params1[i] += shift\n",
    "            shifted_params2 = np.copy(params)\n",
    "            shifted_params2[i] -= shift\n",
    "            gradient[i] = (circuit(shifted_params1)-circuit(shifted_params2))/(2*math.sin(shift))\n",
    "    return np.round_(gradient, decimals=5).tolist()"
   ]
  },
  {
   "cell_type": "code",
   "execution_count": 11,
   "id": "b2ec7321-cd74-4126-819c-58b2635ecd93",
   "metadata": {},
   "outputs": [],
   "source": [
    "# These functions are responsible for testing the solution.\n",
    "\n",
    "def run(test_case_input: str) -> str:\n",
    "    params, shift = json.loads(test_case_input)\n",
    "    gradient = my_parameter_shift_grad(params, shift)\n",
    "    return str(gradient)\n",
    "\n",
    "def check(solution_output: str, expected_output: str) -> None:\n",
    "    solution_output = json.loads(solution_output)\n",
    "    expected_output = json.loads(expected_output)\n",
    "    assert np.allclose(\n",
    "        solution_output, expected_output, rtol=1e-4\n",
    "    ), \"Your gradient isn't quite right!\""
   ]
  },
  {
   "cell_type": "code",
   "execution_count": 12,
   "id": "ac1e4ebd-5261-40f2-997c-abd1615535e4",
   "metadata": {},
   "outputs": [],
   "source": [
    "# These functions are responsible for testing the solution.\n",
    "\n",
    "def run(test_case_input: str) -> str:\n",
    "    params, shift = json.loads(test_case_input)\n",
    "    gradient = my_parameter_shift_grad(params, shift)\n",
    "    return str(gradient)\n",
    "\n",
    "def check(solution_output: str, expected_output: str) -> None:\n",
    "    solution_output = json.loads(solution_output)\n",
    "    expected_output = json.loads(expected_output)\n",
    "    assert np.allclose(\n",
    "        solution_output, expected_output, rtol=1e-4\n",
    "    ), \"Your gradient isn't quite right!\""
   ]
  },
  {
   "cell_type": "code",
   "execution_count": 13,
   "id": "c2a00bb5-dc15-4028-9346-fb4b876a2f72",
   "metadata": {},
   "outputs": [],
   "source": [
    "test_cases = [['[[0.75, 1.0], 1.23]', '[-0.68164, -0.84147]']]"
   ]
  },
  {
   "cell_type": "code",
   "execution_count": 14,
   "id": "69de1678-519f-4ec4-8f9a-883a98ad7084",
   "metadata": {},
   "outputs": [
    {
     "name": "stdout",
     "output_type": "stream",
     "text": [
      "Running test case 0 with input '[[0.75, 1.0], 1.23]'...\n",
      "Correct!\n"
     ]
    }
   ],
   "source": [
    "for i, (input_, expected_output) in enumerate(test_cases):\n",
    "    print(f\"Running test case {i} with input '{input_}'...\")\n",
    "\n",
    "    try:\n",
    "        output = run(input_)\n",
    "\n",
    "    except Exception as exc:\n",
    "        print(f\"Runtime Error. {exc}\")\n",
    "\n",
    "    else:\n",
    "        if message := check(output, expected_output):\n",
    "            print(f\"Wrong Answer. Have: '{output}'. Want: '{expected_output}'.\")\n",
    "\n",
    "        else:\n",
    "            print(\"Correct!\")"
   ]
  },
  {
   "cell_type": "code",
   "execution_count": null,
   "id": "26cb7e33-7392-4ced-860d-e5a3e213262d",
   "metadata": {},
   "outputs": [],
   "source": []
  }
 ],
 "metadata": {
  "kernelspec": {
   "display_name": "PennyLane",
   "language": "python",
   "name": "pennylane"
  },
  "language_info": {
   "codemirror_mode": {
    "name": "ipython",
    "version": 3
   },
   "file_extension": ".py",
   "mimetype": "text/x-python",
   "name": "python",
   "nbconvert_exporter": "python",
   "pygments_lexer": "ipython3",
   "version": "3.9.13"
  }
 },
 "nbformat": 4,
 "nbformat_minor": 5
}
